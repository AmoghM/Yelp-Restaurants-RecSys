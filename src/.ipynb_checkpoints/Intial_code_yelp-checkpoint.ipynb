{
 "cells": [
  {
   "cell_type": "code",
   "execution_count": 1,
   "metadata": {},
   "outputs": [
    {
     "name": "stderr",
     "output_type": "stream",
     "text": [
      "100%|██████████| 6685900/6685900 [01:11<00:00, 93509.04it/s] \n"
     ]
    }
   ],
   "source": [
    "import pandas as pd\n",
    "import json\n",
    "from tqdm import tqdm\n",
    "line_count = len(open(\"review.json\").readlines())\n",
    "user_ids, business_ids, stars, dates = [], [], [], []\n",
    "with open(\"review.json\") as f:\n",
    "  for line in tqdm(f, total=line_count):\n",
    "       blob = json.loads(line)\n",
    "       user_ids += [blob[\"user_id\"]]\n",
    "       business_ids += [blob[\"business_id\"]]\n",
    "       stars += [blob[\"stars\"]]\n",
    "       dates += [blob[\"date\"]]\n",
    "ratings = pd.DataFrame(\n",
    "   {\"user_id\": user_ids, \"business_id\": business_ids, \"rating\": stars, \"date\": dates}\n",
    ")\n",
    "user_counts = ratings[\"user_id\"].value_counts()\n",
    "active_users = user_counts.loc[user_counts >= 5].index.tolist()"
   ]
  },
  {
   "cell_type": "code",
   "execution_count": 131,
   "metadata": {},
   "outputs": [],
   "source": [
    "business_counts = ratings[\"business_id\"].value_counts()\n",
    "popular_business = business_counts.loc[business_counts >= 5].index.tolist()"
   ]
  },
  {
   "cell_type": "code",
   "execution_count": 135,
   "metadata": {},
   "outputs": [
    {
     "data": {
      "text/plain": [
       "['4JNXUYY8wbaaDmk3BPzlWw',\n",
       " 'RESDUcs7fIiihp38-d6_6g',\n",
       " 'K7lWdNUhCbcnEvI0NhGewg',\n",
       " 'f4x1YBxkLrZg652xt2KR5g',\n",
       " 'cYwJA2A6I12KNkm2rtXd5g']"
      ]
     },
     "execution_count": 135,
     "metadata": {},
     "output_type": "execute_result"
    }
   ],
   "source": [
    "popular_business[0:5]"
   ]
  },
  {
   "cell_type": "code",
   "execution_count": 143,
   "metadata": {},
   "outputs": [
    {
     "data": {
      "text/plain": [
       "142165"
      ]
     },
     "execution_count": 143,
     "metadata": {},
     "output_type": "execute_result"
    }
   ],
   "source": [
    "len(popular_business)"
   ]
  },
  {
   "cell_type": "code",
   "execution_count": 46,
   "metadata": {},
   "outputs": [
    {
     "data": {
      "text/plain": [
       "286130"
      ]
     },
     "execution_count": 46,
     "metadata": {},
     "output_type": "execute_result"
    }
   ],
   "source": [
    "len(active_users)"
   ]
  },
  {
   "cell_type": "code",
   "execution_count": 2,
   "metadata": {},
   "outputs": [
    {
     "data": {
      "text/plain": [
       "(6685900, 4)"
      ]
     },
     "execution_count": 2,
     "metadata": {},
     "output_type": "execute_result"
    }
   ],
   "source": [
    "ratings.shape"
   ]
  },
  {
   "cell_type": "code",
   "execution_count": 8,
   "metadata": {},
   "outputs": [
    {
     "data": {
      "text/plain": [
       "Index(['user_id', 'business_id', 'rating', 'date'], dtype='object')"
      ]
     },
     "execution_count": 8,
     "metadata": {},
     "output_type": "execute_result"
    }
   ],
   "source": [
    "ratings.columns"
   ]
  },
  {
   "cell_type": "code",
   "execution_count": 4,
   "metadata": {},
   "outputs": [
    {
     "name": "stderr",
     "output_type": "stream",
     "text": [
      "100%|██████████| 192609/192609 [00:02<00:00, 65482.93it/s]\n"
     ]
    }
   ],
   "source": [
    "line_count = len(open(\"business.json\").readlines())\n",
    "business_ids,name, city, stars,review_count,categories = [], [], [], [],[],[]\n",
    "with open(\"business.json\") as f:\n",
    "  for line in tqdm(f, total=line_count):\n",
    "       blob = json.loads(line)\n",
    "       business_ids += [blob[\"business_id\"]]\n",
    "       name += [blob[\"name\"]]\n",
    "       city += [blob[\"city\"]]\n",
    "       stars += [blob[\"stars\"]]\n",
    "       review_count += [blob[\"review_count\"]]\n",
    "       categories += [blob[\"categories\"]]\n",
    "business = pd.DataFrame(\n",
    "   {\"business_id\": business_ids, \"name\": name, \"city\": city, \"stars\": stars,\"review_count\": review_count,\n",
    "    \"categories\": categories}\n",
    ")"
   ]
  },
  {
   "cell_type": "code",
   "execution_count": 7,
   "metadata": {},
   "outputs": [
    {
     "data": {
      "text/plain": [
       "Index(['business_id', 'name', 'city', 'stars', 'review_count', 'categories'], dtype='object')"
      ]
     },
     "execution_count": 7,
     "metadata": {},
     "output_type": "execute_result"
    }
   ],
   "source": [
    "business.columns"
   ]
  },
  {
   "cell_type": "code",
   "execution_count": 112,
   "metadata": {},
   "outputs": [],
   "source": [
    "data_1=ratings.merge(business,how='left',on='business_id')"
   ]
  },
  {
   "cell_type": "code",
   "execution_count": 113,
   "metadata": {},
   "outputs": [],
   "source": [
    "data_1['date']=pd.to_datetime(data_1['date'])"
   ]
  },
  {
   "cell_type": "code",
   "execution_count": 114,
   "metadata": {},
   "outputs": [
    {
     "data": {
      "text/html": [
       "<div>\n",
       "<style scoped>\n",
       "    .dataframe tbody tr th:only-of-type {\n",
       "        vertical-align: middle;\n",
       "    }\n",
       "\n",
       "    .dataframe tbody tr th {\n",
       "        vertical-align: top;\n",
       "    }\n",
       "\n",
       "    .dataframe thead th {\n",
       "        text-align: right;\n",
       "    }\n",
       "</style>\n",
       "<table border=\"1\" class=\"dataframe\">\n",
       "  <thead>\n",
       "    <tr style=\"text-align: right;\">\n",
       "      <th></th>\n",
       "      <th>user_id</th>\n",
       "      <th>business_id</th>\n",
       "      <th>rating</th>\n",
       "      <th>date</th>\n",
       "      <th>name</th>\n",
       "      <th>city</th>\n",
       "      <th>stars</th>\n",
       "      <th>review_count</th>\n",
       "      <th>categories</th>\n",
       "    </tr>\n",
       "  </thead>\n",
       "  <tbody>\n",
       "    <tr>\n",
       "      <th>0</th>\n",
       "      <td>hG7b0MtEbXx5QzbzE6C_VA</td>\n",
       "      <td>ujmEBvifdJM6h6RLv4wQIg</td>\n",
       "      <td>1.0</td>\n",
       "      <td>2013-05-07 04:34:36</td>\n",
       "      <td>MountainView Hospital</td>\n",
       "      <td>Las Vegas</td>\n",
       "      <td>2.5</td>\n",
       "      <td>238</td>\n",
       "      <td>Fitness &amp; Instruction, Doctors, Health &amp; Medic...</td>\n",
       "    </tr>\n",
       "    <tr>\n",
       "      <th>1</th>\n",
       "      <td>yXQM5uF2jS6es16SJzNHfg</td>\n",
       "      <td>NZnhc2sEQy3RmzKTZnqtwQ</td>\n",
       "      <td>5.0</td>\n",
       "      <td>2017-01-14 21:30:33</td>\n",
       "      <td>Kelly Cardenas Salon - Hard Rock Hotel &amp; Casino</td>\n",
       "      <td>Las Vegas</td>\n",
       "      <td>4.5</td>\n",
       "      <td>66</td>\n",
       "      <td>Beauty &amp; Spas, Hair Stylists, Makeup Artists, ...</td>\n",
       "    </tr>\n",
       "    <tr>\n",
       "      <th>2</th>\n",
       "      <td>n6-Gk65cPZL6Uz8qRm3NYw</td>\n",
       "      <td>WTqjgwHlXbSFevF32_DJVw</td>\n",
       "      <td>5.0</td>\n",
       "      <td>2016-11-09 20:09:03</td>\n",
       "      <td>J. Philipp Centers for Family and Cosmetic Den...</td>\n",
       "      <td>Chandler</td>\n",
       "      <td>3.5</td>\n",
       "      <td>39</td>\n",
       "      <td>Health &amp; Medical, Cosmetic Dentists, Orthodont...</td>\n",
       "    </tr>\n",
       "    <tr>\n",
       "      <th>3</th>\n",
       "      <td>dacAIZ6fTM6mqwW5uxkskg</td>\n",
       "      <td>ikCg8xy5JIg_NGPx-MSIDA</td>\n",
       "      <td>5.0</td>\n",
       "      <td>2018-01-09 20:56:38</td>\n",
       "      <td>Regal Beagle Pub</td>\n",
       "      <td>Calgary</td>\n",
       "      <td>3.0</td>\n",
       "      <td>13</td>\n",
       "      <td>Bars, Pubs, Nightlife, Tapas Bars, Restaurants</td>\n",
       "    </tr>\n",
       "    <tr>\n",
       "      <th>4</th>\n",
       "      <td>ssoyf2_x0EQMed6fgHeMyQ</td>\n",
       "      <td>b1b1eb3uo-w561D0ZfCEiQ</td>\n",
       "      <td>1.0</td>\n",
       "      <td>2018-01-30 23:07:38</td>\n",
       "      <td>White Teeth AZ</td>\n",
       "      <td>Scottsdale</td>\n",
       "      <td>4.5</td>\n",
       "      <td>75</td>\n",
       "      <td>Teeth Whitening, Beauty &amp; Spas</td>\n",
       "    </tr>\n",
       "  </tbody>\n",
       "</table>\n",
       "</div>"
      ],
      "text/plain": [
       "                  user_id             business_id  rating                date  \\\n",
       "0  hG7b0MtEbXx5QzbzE6C_VA  ujmEBvifdJM6h6RLv4wQIg     1.0 2013-05-07 04:34:36   \n",
       "1  yXQM5uF2jS6es16SJzNHfg  NZnhc2sEQy3RmzKTZnqtwQ     5.0 2017-01-14 21:30:33   \n",
       "2  n6-Gk65cPZL6Uz8qRm3NYw  WTqjgwHlXbSFevF32_DJVw     5.0 2016-11-09 20:09:03   \n",
       "3  dacAIZ6fTM6mqwW5uxkskg  ikCg8xy5JIg_NGPx-MSIDA     5.0 2018-01-09 20:56:38   \n",
       "4  ssoyf2_x0EQMed6fgHeMyQ  b1b1eb3uo-w561D0ZfCEiQ     1.0 2018-01-30 23:07:38   \n",
       "\n",
       "                                                name        city  stars  \\\n",
       "0                              MountainView Hospital   Las Vegas    2.5   \n",
       "1    Kelly Cardenas Salon - Hard Rock Hotel & Casino   Las Vegas    4.5   \n",
       "2  J. Philipp Centers for Family and Cosmetic Den...    Chandler    3.5   \n",
       "3                                   Regal Beagle Pub     Calgary    3.0   \n",
       "4                                     White Teeth AZ  Scottsdale    4.5   \n",
       "\n",
       "   review_count                                         categories  \n",
       "0           238  Fitness & Instruction, Doctors, Health & Medic...  \n",
       "1            66  Beauty & Spas, Hair Stylists, Makeup Artists, ...  \n",
       "2            39  Health & Medical, Cosmetic Dentists, Orthodont...  \n",
       "3            13     Bars, Pubs, Nightlife, Tapas Bars, Restaurants  \n",
       "4            75                     Teeth Whitening, Beauty & Spas  "
      ]
     },
     "execution_count": 114,
     "metadata": {},
     "output_type": "execute_result"
    }
   ],
   "source": [
    "data_1.head()"
   ]
  },
  {
   "cell_type": "code",
   "execution_count": 115,
   "metadata": {},
   "outputs": [
    {
     "data": {
      "text/plain": [
       "(0, 9)"
      ]
     },
     "execution_count": 115,
     "metadata": {},
     "output_type": "execute_result"
    }
   ],
   "source": [
    "data_1[data_1['city']=='NY'].shape"
   ]
  },
  {
   "cell_type": "code",
   "execution_count": 116,
   "metadata": {},
   "outputs": [
    {
     "data": {
      "text/plain": [
       "(6685900, 9)"
      ]
     },
     "execution_count": 116,
     "metadata": {},
     "output_type": "execute_result"
    }
   ],
   "source": [
    "data_1.shape"
   ]
  },
  {
   "cell_type": "code",
   "execution_count": 122,
   "metadata": {},
   "outputs": [
    {
     "data": {
      "text/plain": [
       "Timestamp('2018-11-14 18:13:26')"
      ]
     },
     "execution_count": 122,
     "metadata": {},
     "output_type": "execute_result"
    }
   ],
   "source": [
    "data_1.date.max()"
   ]
  },
  {
   "cell_type": "code",
   "execution_count": 123,
   "metadata": {},
   "outputs": [],
   "source": [
    "data_1=data_1[data_1.date>'2018-07-01']"
   ]
  },
  {
   "cell_type": "code",
   "execution_count": 130,
   "metadata": {},
   "outputs": [
    {
     "data": {
      "text/plain": [
       "92907"
      ]
     },
     "execution_count": 130,
     "metadata": {},
     "output_type": "execute_result"
    }
   ],
   "source": [
    "data_1.business_id.nunique()"
   ]
  },
  {
   "cell_type": "code",
   "execution_count": 158,
   "metadata": {},
   "outputs": [],
   "source": [
    "data_2=data_1[data_1.categories.str.contains('Pizza',na=False)]"
   ]
  },
  {
   "cell_type": "code",
   "execution_count": 159,
   "metadata": {},
   "outputs": [
    {
     "data": {
      "text/plain": [
       "(28412, 9)"
      ]
     },
     "execution_count": 159,
     "metadata": {},
     "output_type": "execute_result"
    }
   ],
   "source": [
    "data_2.shape"
   ]
  },
  {
   "cell_type": "code",
   "execution_count": 160,
   "metadata": {},
   "outputs": [
    {
     "data": {
      "text/html": [
       "<div>\n",
       "<style scoped>\n",
       "    .dataframe tbody tr th:only-of-type {\n",
       "        vertical-align: middle;\n",
       "    }\n",
       "\n",
       "    .dataframe tbody tr th {\n",
       "        vertical-align: top;\n",
       "    }\n",
       "\n",
       "    .dataframe thead th {\n",
       "        text-align: right;\n",
       "    }\n",
       "</style>\n",
       "<table border=\"1\" class=\"dataframe\">\n",
       "  <thead>\n",
       "    <tr style=\"text-align: right;\">\n",
       "      <th></th>\n",
       "      <th>user_id</th>\n",
       "      <th>business_id</th>\n",
       "      <th>rating</th>\n",
       "      <th>date</th>\n",
       "      <th>name</th>\n",
       "      <th>city</th>\n",
       "      <th>stars</th>\n",
       "      <th>review_count</th>\n",
       "      <th>categories</th>\n",
       "    </tr>\n",
       "  </thead>\n",
       "  <tbody>\n",
       "    <tr>\n",
       "      <th>751</th>\n",
       "      <td>txHu-M3p2tLKSpNGMWUO0Q</td>\n",
       "      <td>C2skZUb7BLpv3e78Mcf5cA</td>\n",
       "      <td>1.0</td>\n",
       "      <td>2018-09-03 01:40:55</td>\n",
       "      <td>Pizza Hut</td>\n",
       "      <td>North Las Vegas</td>\n",
       "      <td>2.0</td>\n",
       "      <td>41</td>\n",
       "      <td>Pizza, Restaurants</td>\n",
       "    </tr>\n",
       "    <tr>\n",
       "      <th>1382</th>\n",
       "      <td>84MPXt_hRIABXN09eTxG-g</td>\n",
       "      <td>a0v7Si0DK4cIko7AQY4YXg</td>\n",
       "      <td>4.0</td>\n",
       "      <td>2018-08-23 21:45:39</td>\n",
       "      <td>Egg Works</td>\n",
       "      <td>Las Vegas</td>\n",
       "      <td>4.5</td>\n",
       "      <td>999</td>\n",
       "      <td>Restaurants, Burgers, Breakfast &amp; Brunch, Amer...</td>\n",
       "    </tr>\n",
       "    <tr>\n",
       "      <th>1427</th>\n",
       "      <td>QPS8x5UbSNbVhZUQA7WHGg</td>\n",
       "      <td>ygZSfAsnlztdeWZOlJA2Ug</td>\n",
       "      <td>5.0</td>\n",
       "      <td>2018-09-25 05:14:27</td>\n",
       "      <td>Barro's Pizza</td>\n",
       "      <td>Tempe</td>\n",
       "      <td>4.0</td>\n",
       "      <td>92</td>\n",
       "      <td>Sandwiches, Italian, Pizza, Restaurants</td>\n",
       "    </tr>\n",
       "    <tr>\n",
       "      <th>2142</th>\n",
       "      <td>9E2FcvChcPPv1dgOx3k_NA</td>\n",
       "      <td>htVvtLIFftBLqzRISjReDw</td>\n",
       "      <td>4.0</td>\n",
       "      <td>2018-09-25 13:31:53</td>\n",
       "      <td>The Cheesecake Factory</td>\n",
       "      <td>Toronto</td>\n",
       "      <td>3.0</td>\n",
       "      <td>450</td>\n",
       "      <td>Restaurants, Desserts, Salad, Food, Pizza, Bur...</td>\n",
       "    </tr>\n",
       "    <tr>\n",
       "      <th>2576</th>\n",
       "      <td>kCj31kiI9QL81bMaFed4qg</td>\n",
       "      <td>ygZSfAsnlztdeWZOlJA2Ug</td>\n",
       "      <td>4.0</td>\n",
       "      <td>2018-08-14 04:05:04</td>\n",
       "      <td>Barro's Pizza</td>\n",
       "      <td>Tempe</td>\n",
       "      <td>4.0</td>\n",
       "      <td>92</td>\n",
       "      <td>Sandwiches, Italian, Pizza, Restaurants</td>\n",
       "    </tr>\n",
       "  </tbody>\n",
       "</table>\n",
       "</div>"
      ],
      "text/plain": [
       "                     user_id             business_id  rating  \\\n",
       "751   txHu-M3p2tLKSpNGMWUO0Q  C2skZUb7BLpv3e78Mcf5cA     1.0   \n",
       "1382  84MPXt_hRIABXN09eTxG-g  a0v7Si0DK4cIko7AQY4YXg     4.0   \n",
       "1427  QPS8x5UbSNbVhZUQA7WHGg  ygZSfAsnlztdeWZOlJA2Ug     5.0   \n",
       "2142  9E2FcvChcPPv1dgOx3k_NA  htVvtLIFftBLqzRISjReDw     4.0   \n",
       "2576  kCj31kiI9QL81bMaFed4qg  ygZSfAsnlztdeWZOlJA2Ug     4.0   \n",
       "\n",
       "                    date                    name             city  stars  \\\n",
       "751  2018-09-03 01:40:55               Pizza Hut  North Las Vegas    2.0   \n",
       "1382 2018-08-23 21:45:39               Egg Works        Las Vegas    4.5   \n",
       "1427 2018-09-25 05:14:27           Barro's Pizza            Tempe    4.0   \n",
       "2142 2018-09-25 13:31:53  The Cheesecake Factory          Toronto    3.0   \n",
       "2576 2018-08-14 04:05:04           Barro's Pizza            Tempe    4.0   \n",
       "\n",
       "      review_count                                         categories  \n",
       "751             41                                 Pizza, Restaurants  \n",
       "1382           999  Restaurants, Burgers, Breakfast & Brunch, Amer...  \n",
       "1427            92            Sandwiches, Italian, Pizza, Restaurants  \n",
       "2142           450  Restaurants, Desserts, Salad, Food, Pizza, Bur...  \n",
       "2576            92            Sandwiches, Italian, Pizza, Restaurants  "
      ]
     },
     "execution_count": 160,
     "metadata": {},
     "output_type": "execute_result"
    }
   ],
   "source": [
    "data_2.head()"
   ]
  },
  {
   "cell_type": "code",
   "execution_count": 161,
   "metadata": {},
   "outputs": [],
   "source": [
    "data_2=data_2[(data_2.user_id.isin(active_users))]\n"
   ]
  },
  {
   "cell_type": "code",
   "execution_count": 162,
   "metadata": {},
   "outputs": [],
   "source": [
    "data_2=data_2[(data_2.business_id.isin(popular_business))]"
   ]
  },
  {
   "cell_type": "code",
   "execution_count": 127,
   "metadata": {},
   "outputs": [
    {
     "data": {
      "text/plain": [
       "0.1    1.0\n",
       "0.2    3.0\n",
       "0.3    3.0\n",
       "0.4    4.0\n",
       "0.5    4.0\n",
       "0.6    5.0\n",
       "0.7    5.0\n",
       "0.8    5.0\n",
       "0.9    5.0\n",
       "1.0    5.0\n",
       "Name: rating, dtype: float64"
      ]
     },
     "execution_count": 127,
     "metadata": {},
     "output_type": "execute_result"
    }
   ],
   "source": [
    "data_2.rating.quantile([0.1,0.2,0.3,0.4,0.5,0.6,0.7,0.8,0.9,1])"
   ]
  },
  {
   "cell_type": "code",
   "execution_count": 163,
   "metadata": {},
   "outputs": [
    {
     "data": {
      "text/plain": [
       "(16732, 9)"
      ]
     },
     "execution_count": 163,
     "metadata": {},
     "output_type": "execute_result"
    }
   ],
   "source": [
    "data_2.shape"
   ]
  },
  {
   "cell_type": "code",
   "execution_count": 164,
   "metadata": {},
   "outputs": [
    {
     "data": {
      "text/plain": [
       "2937"
      ]
     },
     "execution_count": 164,
     "metadata": {},
     "output_type": "execute_result"
    }
   ],
   "source": [
    "data_2.business_id.nunique()"
   ]
  },
  {
   "cell_type": "code",
   "execution_count": 165,
   "metadata": {},
   "outputs": [
    {
     "data": {
      "text/plain": [
       "13054"
      ]
     },
     "execution_count": 165,
     "metadata": {},
     "output_type": "execute_result"
    }
   ],
   "source": [
    "data_2.user_id.nunique()"
   ]
  },
  {
   "cell_type": "code",
   "execution_count": 65,
   "metadata": {},
   "outputs": [
    {
     "data": {
      "text/plain": [
       "394428"
      ]
     },
     "execution_count": 65,
     "metadata": {},
     "output_type": "execute_result"
    }
   ],
   "source": [
    "sum(data_1.categories.str.contains('Pizza',na=False))"
   ]
  },
  {
   "cell_type": "code",
   "execution_count": 47,
   "metadata": {},
   "outputs": [],
   "source": [
    "data_2=data_1..groupby('categories')['categories'].count()"
   ]
  },
  {
   "cell_type": "code",
   "execution_count": 107,
   "metadata": {},
   "outputs": [
    {
     "data": {
      "text/plain": [
       "(712379, 9)"
      ]
     },
     "execution_count": 107,
     "metadata": {},
     "output_type": "execute_result"
    }
   ],
   "source": [
    "data_2.shape"
   ]
  },
  {
   "cell_type": "code",
   "execution_count": 44,
   "metadata": {},
   "outputs": [
    {
     "name": "stderr",
     "output_type": "stream",
     "text": [
      "//anaconda3/lib/python3.7/site-packages/ipykernel_launcher.py:1: FutureWarning: The signature of `Series.to_csv` was aligned to that of `DataFrame.to_csv`, and argument 'header' will change its default value from False to True: please pass an explicit value to suppress this warning.\n",
      "  \"\"\"Entry point for launching an IPython kernel.\n"
     ]
    }
   ],
   "source": [
    "data_2.to_csv('abc.csv')"
   ]
  },
  {
   "cell_type": "code",
   "execution_count": 43,
   "metadata": {},
   "outputs": [
    {
     "data": {
      "text/plain": [
       "city\n",
       "                  3\n",
       "110 Las Vegas    74\n",
       "AGINCOURT         7\n",
       "AVON             21\n",
       "AZ                3\n",
       "Name: city, dtype: int64"
      ]
     },
     "execution_count": 43,
     "metadata": {},
     "output_type": "execute_result"
    }
   ],
   "source": [
    "data_2.head()"
   ]
  },
  {
   "cell_type": "code",
   "execution_count": null,
   "metadata": {},
   "outputs": [],
   "source": []
  }
 ],
 "metadata": {
  "kernelspec": {
   "display_name": "Python 2",
   "language": "python",
   "name": "python2"
  },
  "language_info": {
   "codemirror_mode": {
    "name": "ipython",
    "version": 2
   },
   "file_extension": ".py",
   "mimetype": "text/x-python",
   "name": "python",
   "nbconvert_exporter": "python",
   "pygments_lexer": "ipython2",
   "version": "2.7.12"
  }
 },
 "nbformat": 4,
 "nbformat_minor": 2
}
