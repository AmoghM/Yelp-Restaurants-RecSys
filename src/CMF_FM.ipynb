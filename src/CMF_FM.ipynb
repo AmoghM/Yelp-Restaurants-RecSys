{
 "cells": [
  {
   "cell_type": "markdown",
   "metadata": {
    "colab_type": "text",
    "id": "CbdP8FAq2r0J"
   },
   "source": [
    "pip install git+https://github.com/coreylynch/pyFM -->\n",
    "pip command to install the package"
   ]
  },
  {
   "cell_type": "code",
   "execution_count": 1,
   "metadata": {
    "colab": {
     "base_uri": "https://localhost:8080/",
     "height": 185
    },
    "colab_type": "code",
    "id": "KRi24sVWQUEp",
    "outputId": "3dafcb6f-4c4c-479d-e038-6c1e85fb1f74"
   },
   "outputs": [
    {
     "name": "stdout",
     "output_type": "stream",
     "text": [
      "Collecting git+https://github.com/coreylynch/pyFM\n",
      "  Cloning https://github.com/coreylynch/pyFM to /tmp/pip-req-build-3cdoo7yq\n",
      "  Running command git clone -q https://github.com/coreylynch/pyFM /tmp/pip-req-build-3cdoo7yq\n",
      "Building wheels for collected packages: pyfm\n",
      "  Building wheel for pyfm (setup.py) ... \u001b[?25l\u001b[?25hdone\n",
      "  Created wheel for pyfm: filename=pyfm-0.0.0-cp36-cp36m-linux_x86_64.whl size=220620 sha256=80f7f03529aeedd2dbbdc19ab40e5edd1a44aecbb552f3273d79edd0ebe5dc4c\n",
      "  Stored in directory: /tmp/pip-ephem-wheel-cache-0d3ezx2d/wheels/3b/d9/ef/1b148c527d39344632833679e79b3db1798a40b0f64f917b13\n",
      "Successfully built pyfm\n",
      "Installing collected packages: pyfm\n",
      "Successfully installed pyfm-0.0.0\n"
     ]
    }
   ],
   "source": [
    "## google colab command for installing the package --> !pip install git+https://github.com/coreylynch/pyFM\n",
    "#pip install git+https://github.com/coreylynch/pyFM"
   ]
  },
  {
   "cell_type": "code",
   "execution_count": 0,
   "metadata": {
    "colab": {},
    "colab_type": "code",
    "id": "OvBmzxSB2ynL"
   },
   "outputs": [],
   "source": [
    "import numpy as np\n",
    "import pandas as pd\n",
    "import scipy as sp\n",
    "import json\n",
    "from sklearn.feature_extraction import DictVectorizer\n",
    "from pyfm import pylibfm\n",
    "from sklearn.preprocessing import normalize\n",
    "from scipy import sparse\n",
    "from io import StringIO  # Python3\n",
    "import sys\n",
    "from sklearn.metrics import mean_squared_error\n",
    "import math  "
   ]
  },
  {
   "cell_type": "code",
   "execution_count": 4,
   "metadata": {
    "colab": {
     "base_uri": "https://localhost:8080/",
     "height": 50
    },
    "colab_type": "code",
    "id": "lWhoJrGK262l",
    "outputId": "1aee9a8a-d8c1-4489-cf10-ec3a3841b940"
   },
   "outputs": [
    {
     "name": "stdout",
     "output_type": "stream",
     "text": [
      "test dataset created\n",
      "train dataset created\n"
     ]
    }
   ],
   "source": [
    "## Train and test datasets\n",
    "dataset = pd.read_csv(\"../data/merged_data.csv\")\n",
    "test_dataset = dataset[dataset.groupby('user_id')['date'].transform('max') == dataset['date']]\n",
    "print(\"test dataset created\")\n",
    "train_dataset = pd.concat([dataset, test_dataset, test_dataset]).drop_duplicates(keep=False)\n",
    "print(\"train dataset created\")"
   ]
  },
  {
   "cell_type": "code",
   "execution_count": 0,
   "metadata": {
    "colab": {},
    "colab_type": "code",
    "id": "0E__pigGi--n"
   },
   "outputs": [],
   "source": [
    "## Forming y (predictions columns)\n",
    "y_train = train_dataset[['rating']].to_numpy()\n",
    "y_train = np.squeeze(y_train)\n",
    "\n",
    "y_test = test_dataset[['rating']].to_numpy()\n",
    "y_test = np.squeeze(y_test)"
   ]
  },
  {
   "cell_type": "code",
   "execution_count": 0,
   "metadata": {
    "colab": {},
    "colab_type": "code",
    "id": "afYeBOB6BIkf"
   },
   "outputs": [],
   "source": [
    "## Forming X \n",
    "# no metadata\n",
    "x_train_nometa = (train_dataset[['user_id', 'business_id']]).to_dict('records')\n",
    "x_test_nometa = (test_dataset[['user_id', 'business_id']]).to_dict('records')\n",
    "\n",
    "# only item metadata\n",
    "x_train_itemmeta = (train_dataset[['user_id', 'business_id', 'avg_rating', 'review_cnt_x', 'latitude', 'longitude', 'is_open', 'RestaurantsPriceRange2']]).to_dict('records')\n",
    "x_train_meta_itemmeta = (train_dataset.iloc[:, list(range(34, 499))+list(range(500, 510))]) #499 is 'RestaurantsPriceRange2', 509 last entry\n",
    "x_test_itemmeta = (test_dataset[['user_id', 'business_id', 'review_cnt_x', 'latitude', 'longitude', 'is_open', 'RestaurantsPriceRange2']]).to_dict('records')\n",
    "x_test_meta_itemmeta = (test_dataset.iloc[:, list(range(34, 499))+list(range(500, 510))])\n",
    "\n",
    "# only user metadata\n",
    "x_train_usermeta = (train_dataset.iloc[:, [2, 3, 15]+list(range(17, 22))+list(range(23, 34))]).to_dict('records')\n",
    "x_test_usermeta = (test_dataset.iloc[:, [2, 3, 15]+list(range(17, 22))+list(range(23, 34))]).to_dict('records')\n",
    "\n",
    "# all metadata\n",
    "x_train_allmeta = (train_dataset.iloc[:, [2, 3, 8, 9, 11, 12, 13, 15, 499]+list(range(17, 22))+list(range(23, 34))]).to_dict('records')\n",
    "x_train_meta_allmeta = (train_dataset.iloc[:, list(range(34, 499))+list(range(500, 510))])\n",
    "x_test_allmeta = (test_dataset.iloc[:, [2, 3, 8, 9, 11, 12, 13, 15, 499]+list(range(17, 22))+list(range(23, 34))]).to_dict('records')\n",
    "x_test_meta_allmeta = (test_dataset.iloc[:, list(range(34, 499))+list(range(500, 510))])\n"
   ]
  },
  {
   "cell_type": "code",
   "execution_count": 0,
   "metadata": {
    "colab": {},
    "colab_type": "code",
    "id": "QdZLkFglEqbH"
   },
   "outputs": [],
   "source": [
    "## plot code\n",
    "import matplotlib.pyplot as plt\n",
    "def draw_compare_plot(dictionary_list, label_line_list, title, xlabel, ylabel, file_tag, figure_number):\n",
    "    f = plt.figure(figure_number)\n",
    "    for entry, lab in zip(dictionary_list, label_line_list):\n",
    "        plt.plot(list(entry.keys()), list(entry.values()), label = lab)\n",
    "    plt.xscale('log')\n",
    "    plt.legend()\n",
    "    plt.title(title)\n",
    "    plt.xlabel(xlabel)\n",
    "    plt.ylabel(ylabel)\n",
    "    plt.savefig('../output/rmse_vs_'+ file_tag +'_plot.png')"
   ]
  },
  {
   "cell_type": "code",
   "execution_count": 0,
   "metadata": {
    "colab": {},
    "colab_type": "code",
    "id": "n6TzXT24sA26"
   },
   "outputs": [],
   "source": [
    "## the main FM function\n",
    "def run_fm(x_train, x_test, x_meta_train, x_meta_test, y_train, y_test):\n",
    "    v = DictVectorizer()\n",
    "    X_train = v.fit_transform(x_train)\n",
    "    X_test = v.transform(x_test)\n",
    "\n",
    "    if type(x_meta_train) == int:\n",
    "        X_test_final = sp.sparse.hstack([X_test])\n",
    "        X_train_final = sp.sparse.hstack([X_train])\n",
    "    else:\n",
    "        x_meta_train = x_meta_train.to_numpy()\n",
    "        x_meta_train = sp.sparse.csr_matrix(x_meta_train)\n",
    "\n",
    "        x_meta_test = x_meta_test.to_numpy()\n",
    "        x_meta_test = sp.sparse.csr_matrix(x_meta_test)\n",
    "\n",
    "        X_test_final = sp.sparse.hstack([X_test, x_meta_test])\n",
    "        X_train_final = sp.sparse.hstack([X_train, x_meta_train])\n",
    "\n",
    "    # hyperparameter: validation set\n",
    "    set_validation_size = [0.01, 0.05, 0.10, 0.25] # 4 values \n",
    "    dict_validation_set = {}\n",
    "    rmse_valset = {}\n",
    "    for value1 in set_validation_size:\n",
    "        old_stdout = sys.stdout\n",
    "        result = StringIO()\n",
    "        sys.stdout = result\n",
    "        #do_fancy_stuff()\n",
    "        fm = pylibfm.FM(num_iter=10, task=\"regression\", learning_rate_schedule=\"optimal\", validation_size=value1)\n",
    "        fm.fit(normalize(sparse.csr_matrix(X_train_final)), y_train)\n",
    "        #-----\n",
    "        sys.stdout = old_stdout\n",
    "        result_string = result.getvalue()\n",
    "        dict_validation_set[value1] = math.sqrt(float(result_string[-8:-1]))\n",
    "        # evaluate\n",
    "        preds = fm.predict(normalize(sparse.csr_matrix(X_test_final)))\n",
    "        rmse_valset[value1] = math.sqrt(mean_squared_error(y_test,preds))\n",
    "\n",
    "    #hyperparameter: initial learning rate\n",
    "    set_initial_learning_rate = [0.005, 0.01, 0.05, 0.10] # 4 values\n",
    "    dict_initial_learning_rate = {}\n",
    "    rmse_initialset = {}\n",
    "    for value2 in set_initial_learning_rate:\n",
    "        old_stdout = sys.stdout\n",
    "        result = StringIO()\n",
    "        sys.stdout = result\n",
    "        #do_fancy_stuff()\n",
    "        fm = pylibfm.FM(num_iter=10, task=\"regression\", learning_rate_schedule=\"optimal\", validation_size=0.01, initial_learning_rate = value2)\n",
    "        fm.fit(normalize(sparse.csr_matrix(X_train_final)), y_train)\n",
    "        #-----\n",
    "        sys.stdout = old_stdout\n",
    "        result_string = result.getvalue()\n",
    "        try:\n",
    "            dict_initial_learning_rate[value2] = math.sqrt(float(result_string[-8:-1]))\n",
    "        except:\n",
    "            dict_initial_learning_rate[value2] = 'nan'\n",
    "        # evaluate\n",
    "        preds = fm.predict(normalize(sparse.csr_matrix(X_test_final)))\n",
    "        rmse_initialset[value2] = math.sqrt(mean_squared_error(y_test,preds))\n",
    "\n",
    "    #hyperparameter: num factors\n",
    "    set_num_factors = [10, 50, 100] # 3 values \n",
    "    dict_num_factors = {}\n",
    "    rmse_num_factors = {}\n",
    "    for value3 in set_num_factors:\n",
    "        old_stdout = sys.stdout\n",
    "        result = StringIO()\n",
    "        sys.stdout = result\n",
    "        #do_fancy_stuff()\n",
    "        fm = pylibfm.FM(num_iter=value3, task=\"regression\", learning_rate_schedule=\"optimal\", validation_size=0.01, initial_learning_rate = 0.01)\n",
    "        fm.fit(normalize(sparse.csr_matrix(X_train_final)), y_train)\n",
    "        #-----\n",
    "        sys.stdout = old_stdout\n",
    "        result_string = result.getvalue()\n",
    "        try:\n",
    "            dict_num_factors[value3] = math.sqrt(float(result_string[-8:-1]))\n",
    "        except:\n",
    "            dict_num_factors[value3] = 'nan'\n",
    "        # evaluate\n",
    "        preds = fm.predict(normalize(sparse.csr_matrix(X_test_final)))\n",
    "        rmse_num_factors[value3] = math.sqrt(mean_squared_error(y_test,preds))\n",
    "\n",
    "    return dict_validation_set, dict_initial_learning_rate, dict_num_factors, rmse_valset, rmse_initialset, rmse_num_factors"
   ]
  },
  {
   "cell_type": "code",
   "execution_count": 0,
   "metadata": {
    "colab": {},
    "colab_type": "code",
    "id": "D0ZFPsGmbBeA"
   },
   "outputs": [],
   "source": [
    "# fm function calls # no metadata\n",
    "dict_validation_set_nometa, dict_initial_learning_rate_nometa, dict_num_factors_nometa, rmse_valset_nometa, rmse_initialset_nometa, rmse_num_factors_nometa = run_fm(x_train_nometa, x_test_nometa, 0, 0, y_train, y_test)"
   ]
  },
  {
   "cell_type": "code",
   "execution_count": 0,
   "metadata": {
    "colab": {},
    "colab_type": "code",
    "id": "4yDEIULoD6fo"
   },
   "outputs": [],
   "source": [
    "# item metadata\n",
    "dict_validation_set_itemmeta, dict_initial_learning_rate_itemmeta, dict_num_factors_itemmeta, rmse_valset_itemmeta, rmse_initialset_itemmeta, rmse_num_factors_itemmeta = run_fm(x_train_itemmeta, x_test_itemmeta, x_train_meta_itemmeta, x_test_meta_itemmeta, y_train, y_test)"
   ]
  },
  {
   "cell_type": "code",
   "execution_count": 0,
   "metadata": {
    "colab": {},
    "colab_type": "code",
    "id": "rHH7zAHAD8-r"
   },
   "outputs": [],
   "source": [
    "# user metadata\n",
    "dict_validation_set_usermeta, dict_initial_learning_rate_usermeta, dict_num_factors_usermeta, rmse_valset_usermeta, rmse_initialset_usermeta, rmse_num_factors_usermeta = run_fm(x_train_usermeta, x_test_usermeta, 0, 0, y_train, y_test)"
   ]
  },
  {
   "cell_type": "code",
   "execution_count": 0,
   "metadata": {
    "colab": {},
    "colab_type": "code",
    "id": "Perq4fauD-mc"
   },
   "outputs": [],
   "source": [
    "# all metadata\n",
    "dict_validation_set_allmeta, dict_initial_learning_rate_allmeta, dict_num_factors_allmeta, rmse_valset_allmeta, rmse_initialset_allmeta, rmse_num_factors_allmeta = run_fm(x_train_allmeta, x_test_allmeta, x_train_meta_allmeta, x_test_meta_allmeta, y_train, y_test)"
   ]
  },
  {
   "cell_type": "code",
   "execution_count": 0,
   "metadata": {
    "colab": {},
    "colab_type": "code",
    "id": "e0BqqmfAFJxw"
   },
   "outputs": [],
   "source": [
    "## storing the rmse values as json files\n",
    "rmse_valset_overall = [rmse_valset_nometa, rmse_valset_itemmeta, rmse_valset_usermeta, rmse_valset_allmeta]\n",
    "rmse_initialset_overall = [rmse_initialset_nometa, rmse_initialset_itemmeta, rmse_initialset_usermeta, rmse_initialset_allmeta]\n",
    "rmse_num_factors_overall = [rmse_num_factors_nometa, rmse_num_factors_itemmeta, rmse_num_factors_usermeta, rmse_num_factors_allmeta]\n",
    "with open('../output/rmse_valset_overall', 'w') as fout:\n",
    "    json.dump(rmse_valset_overall, fout)\n",
    "with open('../output/rmse_initialset_overall', 'w') as fout:\n",
    "    json.dump(rmse_initialset_overall, fout)\n",
    "with open('../output/rmse_num_factors_overall', 'w') as fout:\n",
    "    json.dump(rmse_num_factors_overall, fout)"
   ]
  },
  {
   "cell_type": "code",
   "execution_count": 0,
   "metadata": {
    "colab": {
     "base_uri": "https://localhost:8080/",
     "height": 299
    },
    "colab_type": "code",
    "id": "GmP6NImjEG9n",
    "outputId": "ad713ead-485e-4625-c853-8fe02e835cab"
   },
   "outputs": [
    {
     "data": {
      "image/png": "[encoded data removed]",
      "text/plain": [
       "<Figure size 432x288 with 1 Axes>"
      ]
     },
     "metadata": {
      "tags": []
     },
     "output_type": "display_data"
    }
   ],
   "source": [
    "## plot 1 - validation set\n",
    "dict_validation_set_list = [dict_validation_set_nometa, dict_validation_set_itemmeta,  dict_validation_set_usermeta, dict_validation_set_allmeta]\n",
    "label_list = ['No metadata', 'Item metadata', 'User metadata', 'All metadata']\n",
    "draw_compare_plot(dict_validation_set_list, label_list, 'RMSE vs Validation set', 'Validation set', 'Root Mean Squared Error', 'validation_set', 1) #comparison plot\n",
    "with open('../output/dict_validation_set_list', 'w') as fout:\n",
    "    json.dump(dict_validation_set_list, fout)"
   ]
  },
  {
   "cell_type": "code",
   "execution_count": 12,
   "metadata": {
    "colab": {
     "base_uri": "https://localhost:8080/",
     "height": 295
    },
    "colab_type": "code",
    "id": "e9oX-t63S0sU",
    "outputId": "b07e83bd-a510-49c2-da5c-4e1e65d785a1"
   },
   "outputs": [
    {
     "data": {
      "image/png": "[encoded data removed]",
      "text/plain": [
       "<Figure size 432x288 with 1 Axes>"
      ]
     },
     "metadata": {
      "tags": []
     },
     "output_type": "display_data"
    }
   ],
   "source": [
    "## plot 2 - Initial Learning Rate\n",
    "dict_initial_learning_rate_list = [dict_initial_learning_rate_nometa, dict_initial_learning_rate_itemmeta,  dict_initial_learning_rate_usermeta, dict_initial_learning_rate_allmeta]\n",
    "label_list2 = ['No metadata', 'Item metadata', 'User metadata', 'All metadata']\n",
    "draw_compare_plot(dict_initial_learning_rate_list, label_list2, 'RMSE vs Initial Learning Rate', 'Initial Learning Rate', 'Root Mean Squared Error', 'initial_learning_rate', 2) #comparison plot\n",
    "with open('../output/dict_initial_learning_rate_list', 'w') as fout:\n",
    "    json.dump(dict_initial_learning_rate_list, fout)"
   ]
  },
  {
   "cell_type": "code",
   "execution_count": 0,
   "metadata": {
    "colab": {
     "base_uri": "https://localhost:8080/",
     "height": 299
    },
    "colab_type": "code",
    "id": "F_ZTQc_QC-WI",
    "outputId": "d227dc9a-0023-47c1-d422-9262dd748d6f"
   },
   "outputs": [
    {
     "data": {
      "image/png": "[encoded data removed]",
      "text/plain": [
       "<Figure size 432x288 with 1 Axes>"
      ]
     },
     "metadata": {
      "tags": []
     },
     "output_type": "display_data"
    }
   ],
   "source": [
    "## plot 3 - Number of factors (Number of latent dimensions)\n",
    "dict_num_factors_list = [dict_num_factors_nometa, dict_num_factors_itemmeta,  dict_num_factors_usermeta, dict_num_factors_allmeta]\n",
    "label_list3 = ['No metadata', 'Item metadata', 'User metadata', 'All metadata']\n",
    "draw_compare_plot(dict_num_factors_list, label_list3, 'RMSE vs Number of Factors', 'Number of Factors', 'Root Mean Squared Error', 'num_factors', 3) #comparison plot\n",
    "with open('../output/dict_validation_set_list', 'w') as fout:\n",
    "    json.dump(dict_num_factors_list, fout)"
   ]
  },
  {
   "cell_type": "code",
   "execution_count": 0,
   "metadata": {
    "colab": {
     "base_uri": "https://localhost:8080/",
     "height": 286
    },
    "colab_type": "code",
    "id": "ao8cbQZH4Hbo",
    "outputId": "fe0ba2a4-ffa5-44a4-d387-9da470a629c5"
   },
   "outputs": [
    {
     "data": {
      "text/plain": [
       "[{'0.01': 1.2199105453155819,\n",
       "  '0.05': 1.226577728587455,\n",
       "  '0.1': 1.2211704924733338,\n",
       "  '0.25': 1.2300889557984782},\n",
       " {'0.01': 1.3698369030988973,\n",
       "  '0.05': 1.3714096586695295,\n",
       "  '0.1': 1.38418863158992,\n",
       "  '0.25': 1.3696102716230207},\n",
       " {'0.01': 1.3581595746236372,\n",
       "  '0.05': 1.405398401566183,\n",
       "  '0.1': 1.3999932851114218,\n",
       "  '0.25': 1.3744463679069143},\n",
       " {'0.01': 1.3688803547735964,\n",
       "  '0.05': 1.3749645912666904,\n",
       "  '0.1': 1.368969038684237,\n",
       "  '0.25': 1.3679540551781748}]"
      ]
     },
     "execution_count": 19,
     "metadata": {
      "tags": []
     },
     "output_type": "execute_result"
    }
   ],
   "source": [
    "with open(\"../output/rmse_valset_overall\", \"r\") as read_file:\n",
    "    rmse_valset_overall = json.load(read_file)\n",
    "rmse_valset_overall #ini.. = 0.01, num fact = 10"
   ]
  },
  {
   "cell_type": "code",
   "execution_count": 0,
   "metadata": {
    "colab": {
     "base_uri": "https://localhost:8080/",
     "height": 286
    },
    "colab_type": "code",
    "id": "tjBOQRL-4Hv7",
    "outputId": "32006483-bb34-4001-c629-5f69c8b3ca33"
   },
   "outputs": [
    {
     "data": {
      "text/plain": [
       "[{'0.005': 1.234914687242869,\n",
       "  '0.01': 1.2220795977637726,\n",
       "  '0.05': 1.2465678799564486,\n",
       "  '0.1': 1.3024028613700465},\n",
       " {'0.005': 1.3765840166535042,\n",
       "  '0.01': 1.381961446481606,\n",
       "  '0.05': 1.504135750761372,\n",
       "  '0.1': 1.8309586546645673},\n",
       " {'0.005': 1.3501127805381807,\n",
       "  '0.01': 1.3569761317035411,\n",
       "  '0.05': 1.3910744597666147,\n",
       "  '0.1': 1.3991362540599093},\n",
       " {'0.005': 1.3636160740032222,\n",
       "  '0.01': 1.3802899721731996,\n",
       "  '0.05': 1.5066006117229824,\n",
       "  '0.1': 1.7678861100124745}]"
      ]
     },
     "execution_count": 20,
     "metadata": {
      "tags": []
     },
     "output_type": "execute_result"
    }
   ],
   "source": [
    "with open(\"../output/rmse_initialset_overall\", \"r\") as read_file:\n",
    "    rmse_initialset_overall = json.load(read_file)\n",
    "rmse_initialset_overall # valset = 0.01, num fac = 10"
   ]
  },
  {
   "cell_type": "code",
   "execution_count": 0,
   "metadata": {
    "colab": {
     "base_uri": "https://localhost:8080/",
     "height": 151
    },
    "colab_type": "code",
    "id": "F-029h9dEzlf",
    "outputId": "b83c7220-30a2-4ca0-dd00-534270ba9057"
   },
   "outputs": [
    {
     "data": {
      "text/plain": [
       "[{'10': 1.2220795977637726,\n",
       "  '100': 1.238336298189135,\n",
       "  '50': 1.2335262399290625},\n",
       " {'10': 1.381961446481606, '100': 1.370111701435846, '50': 1.3815628861906606},\n",
       " {'10': 1.3569761317035411, '100': 1.336881070661864, '50': 1.329269474759954},\n",
       " {'10': 1.3802899721731996,\n",
       "  '100': 1.3697706404204657,\n",
       "  '50': 1.3932312720775983}]"
      ]
     },
     "execution_count": 21,
     "metadata": {
      "tags": []
     },
     "output_type": "execute_result"
    }
   ],
   "source": [
    "with open(\"../output/rmse_num_factors_overall\", \"r\") as read_file:\n",
    "    rmse_num_factors_overall = json.load(read_file)\n",
    "rmse_num_factors_overall # val set = 0.01, ini.. = 0.01"
   ]
  },
  {
   "cell_type": "markdown",
   "metadata": {},
   "source": [
    "Exploring the case of:\n",
    "1. Less Prolific User \n",
    "2. Less Popular Business"
   ]
  },
  {
   "cell_type": "code",
   "execution_count": 0,
   "metadata": {
    "colab": {},
    "colab_type": "code",
    "id": "mgqcolY119zm"
   },
   "outputs": [],
   "source": [
    "## less_prolific and less_popular \n",
    "user_counts = dataset['user_id'].value_counts()\n",
    "less_prolific_users = user_counts.loc[user_counts <= 5].index.tolist()\n",
    "test_data_less_prolific = test_dataset[(test_dataset.user_id.isin(less_prolific_users))]\n",
    "\n",
    "business_counts = dataset['business_id'].value_counts()\n",
    "less_popular_business = business_counts.loc[business_counts <= 100].index.tolist()\n",
    "test_data_less_popular=test_dataset[(test_dataset.business_id.isin(less_popular_business))]"
   ]
  },
  {
   "cell_type": "code",
   "execution_count": 0,
   "metadata": {
    "colab": {},
    "colab_type": "code",
    "id": "CqVld7PZ4RBg"
   },
   "outputs": [],
   "source": [
    "#less_prolific\n",
    "y_test_less_prolific = test_data_less_prolific[['rating']].to_numpy()\n",
    "y_test_less_prolific = np.squeeze(y_test_less_prolific)\n",
    "x_test_less_prolific = (test_data_less_prolific[['user_id', 'business_id']]).to_dict('records')\n",
    "\n",
    "#less_popular\n",
    "y_test_less_popular = test_data_less_popular[['rating']].to_numpy()\n",
    "y_test_less_popular = np.squeeze(y_test_less_popular)\n",
    "x_test_less_popular = (test_data_less_popular[['user_id', 'business_id']]).to_dict('records')"
   ]
  },
  {
   "cell_type": "code",
   "execution_count": 0,
   "metadata": {
    "colab": {},
    "colab_type": "code",
    "id": "a3pEvSmZ6Ksk"
   },
   "outputs": [],
   "source": [
    "def run_fm_2(x_train, x_test, y_train, y_test):\n",
    "    v = DictVectorizer()\n",
    "    X_train = v.fit_transform(x_train)\n",
    "    X_test = v.transform(x_test)\n",
    "\n",
    "    X_test_final = sp.sparse.hstack([X_test])\n",
    "    X_train_final = sp.sparse.hstack([X_train])\n",
    "\n",
    "    old_stdout = sys.stdout\n",
    "    result = StringIO()\n",
    "    sys.stdout = result\n",
    "    #-----\n",
    "    fm = pylibfm.FM(num_iter=10, task=\"regression\", learning_rate_schedule=\"optimal\", validation_size=0.05, initial_learning_rate = 0.01)\n",
    "    fm.fit(normalize(sparse.csr_matrix(X_train_final)), y_train)\n",
    "    #-----\n",
    "    sys.stdout = old_stdout\n",
    "    result_string = result.getvalue()\n",
    "    rmse_train = math.sqrt(float(result_string[-8:-1]))\n",
    "    # evaluate\n",
    "    preds = fm.predict(normalize(sparse.csr_matrix(X_test_final)))\n",
    "    rmse_test = math.sqrt(mean_squared_error(y_test,preds))\n",
    "\n",
    "    return rmse_train, rmse_test"
   ]
  },
  {
   "cell_type": "code",
   "execution_count": 0,
   "metadata": {
    "colab": {},
    "colab_type": "code",
    "id": "NPd8j8JG6bsk"
   },
   "outputs": [],
   "source": [
    "rmse_train_less_prolific_users, rmse_test_less_prolific_users = run_fm_2(x_train_nometa, x_test_less_prolific, y_train, y_test_less_prolific) #less_prolific\n",
    "rmse_train_less_popular_business, rmse_test_less_popular_business = run_fm_2(x_train_nometa, x_test_less_popular, y_train, y_test_less_popular) #less_popular"
   ]
  },
  {
   "cell_type": "code",
   "execution_count": 0,
   "metadata": {
    "colab": {
     "base_uri": "https://localhost:8080/",
     "height": 34
    },
    "colab_type": "code",
    "id": "jVwHD-MxWFvW",
    "outputId": "5c2512e9-43ff-4565-d75b-8a2d7b919973"
   },
   "outputs": [
    {
     "data": {
      "text/plain": [
       "0.7572846228466547"
      ]
     },
     "execution_count": 11,
     "metadata": {
      "tags": []
     },
     "output_type": "execute_result"
    }
   ],
   "source": [
    "rmse_train_less_prolific_users"
   ]
  },
  {
   "cell_type": "code",
   "execution_count": 0,
   "metadata": {
    "colab": {
     "base_uri": "https://localhost:8080/",
     "height": 34
    },
    "colab_type": "code",
    "id": "hdI3D3NcWVMM",
    "outputId": "a27a3e42-0e9e-4b4a-a50a-ca33d6fd6011"
   },
   "outputs": [
    {
     "data": {
      "text/plain": [
       "1.2377114188484932"
      ]
     },
     "execution_count": 12,
     "metadata": {
      "tags": []
     },
     "output_type": "execute_result"
    }
   ],
   "source": [
    "rmse_test_less_prolific_users"
   ]
  },
  {
   "cell_type": "code",
   "execution_count": 0,
   "metadata": {
    "colab": {
     "base_uri": "https://localhost:8080/",
     "height": 34
    },
    "colab_type": "code",
    "id": "Dgf-diRXWVQM",
    "outputId": "4fee5667-5015-43e4-dda0-dadb3a05a784"
   },
   "outputs": [
    {
     "data": {
      "text/plain": [
       "0.753319321403613"
      ]
     },
     "execution_count": 13,
     "metadata": {
      "tags": []
     },
     "output_type": "execute_result"
    }
   ],
   "source": [
    "rmse_train_less_popular_business"
   ]
  },
  {
   "cell_type": "code",
   "execution_count": 0,
   "metadata": {
    "colab": {
     "base_uri": "https://localhost:8080/",
     "height": 34
    },
    "colab_type": "code",
    "id": "zR9JMRwfWVT8",
    "outputId": "a7dff790-a158-4111-d75f-4fbb294510a3"
   },
   "outputs": [
    {
     "data": {
      "text/plain": [
       "1.331521761501087"
      ]
     },
     "execution_count": 14,
     "metadata": {
      "tags": []
     },
     "output_type": "execute_result"
    }
   ],
   "source": [
    "rmse_test_less_popular_business"
   ]
  },
  {
   "cell_type": "markdown",
   "metadata": {},
   "source": [
    "Finding MAE for the test set using best input data and hyper-parameter combination -\n",
    "\n",
    "No Metadata with 1% Validation set, 0.01 Initial Learning rate, and 10 number of factors. "
   ]
  },
  {
   "cell_type": "code",
   "execution_count": 0,
   "metadata": {
    "colab": {},
    "colab_type": "code",
    "id": "-NNbbp6msvyg"
   },
   "outputs": [],
   "source": [
    "#MAE Code\n",
    "from sklearn.metrics import mean_absolute_error\n",
    "def run_fm_mae(x_train, x_test, y_train, y_test):\n",
    "    v = DictVectorizer()\n",
    "    X_train = v.fit_transform(x_train)\n",
    "    X_test = v.transform(x_test)\n",
    "\n",
    "    X_test_final = sp.sparse.hstack([X_test])\n",
    "    X_train_final = sp.sparse.hstack([X_train])\n",
    "\n",
    "    #-----\n",
    "    fm = pylibfm.FM(num_iter=10, task=\"regression\", learning_rate_schedule=\"optimal\", validation_size=0.05, initial_learning_rate = 0.01)\n",
    "    fm.fit(normalize(sparse.csr_matrix(X_train_final)), y_train)\n",
    "    #-----\n",
    "    #evaluate\n",
    "    preds = fm.predict(normalize(sparse.csr_matrix(X_test_final)))\n",
    "    mae_test = mean_absolute_error(y_test,preds)\n",
    "\n",
    "    return mae_test"
   ]
  },
  {
   "cell_type": "code",
   "execution_count": 0,
   "metadata": {
    "colab": {
     "base_uri": "https://localhost:8080/",
     "height": 370
    },
    "colab_type": "code",
    "id": "5IsZ8zPLtnFQ",
    "outputId": "4d5086b3-484e-4002-98b5-9e6bca5f9367"
   },
   "outputs": [
    {
     "name": "stdout",
     "output_type": "stream",
     "text": [
      "Creating validation dataset of 0.05 of training for adaptive regularization\n",
      "-- Epoch 1\n",
      "Training MSE: 0.75919\n",
      "-- Epoch 2\n",
      "Training MSE: 0.69025\n",
      "-- Epoch 3\n",
      "Training MSE: 0.65878\n",
      "-- Epoch 4\n",
      "Training MSE: 0.63747\n",
      "-- Epoch 5\n",
      "Training MSE: 0.62145\n",
      "-- Epoch 6\n",
      "Training MSE: 0.60808\n",
      "-- Epoch 7\n",
      "Training MSE: 0.59646\n",
      "-- Epoch 8\n",
      "Training MSE: 0.58618\n",
      "-- Epoch 9\n",
      "Training MSE: 0.57649\n",
      "-- Epoch 10\n",
      "Training MSE: 0.56749\n"
     ]
    }
   ],
   "source": [
    "mae_test_nometa = run_fm_mae(x_train_nometa, x_test_nometa, y_train, y_test) #no meta"
   ]
  },
  {
   "cell_type": "code",
   "execution_count": 0,
   "metadata": {
    "colab": {
     "base_uri": "https://localhost:8080/",
     "height": 34
    },
    "colab_type": "code",
    "id": "gnFXSXolvS1S",
    "outputId": "9d7aefe3-260c-4d7e-da8c-3ea18b7c28f4"
   },
   "outputs": [
    {
     "data": {
      "text/plain": [
       "1.0090880333543364"
      ]
     },
     "execution_count": 19,
     "metadata": {
      "tags": []
     },
     "output_type": "execute_result"
    }
   ],
   "source": [
    "mae_test_nometa"
   ]
  }
 ],
 "metadata": {
  "accelerator": "GPU",
  "colab": {
   "collapsed_sections": [],
   "machine_shape": "hm",
   "name": "fm_pylib_swarna.ipynb",
   "provenance": []
  },
  "kernelspec": {
   "display_name": "Python 3",
   "language": "python",
   "name": "python3"
  },
  "language_info": {
   "codemirror_mode": {
    "name": "ipython",
    "version": 3
   },
   "file_extension": ".py",
   "mimetype": "text/x-python",
   "name": "python",
   "nbconvert_exporter": "python",
   "pygments_lexer": "ipython3",
   "version": "3.7.3"
  }
 },
 "nbformat": 4,
 "nbformat_minor": 1
}
