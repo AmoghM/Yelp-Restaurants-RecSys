{
 "cells": [
  {
   "cell_type": "code",
   "execution_count": 7,
   "metadata": {},
   "outputs": [],
   "source": [
    "import numpy as np\n",
    "import pandas as pd\n",
    "import os\n",
    "import torch\n",
    "\n",
    "from pytorch_widedeep.preprocessing import WidePreprocessor, DeepPreprocessor, TextPreprocessor, ImagePreprocessor\n",
    "from pytorch_widedeep.models import Wide, DeepDense, DeepText, DeepImage, WideDeep\n",
    "from pytorch_widedeep.initializers import *\n",
    "from pytorch_widedeep.callbacks import *\n",
    "from pytorch_widedeep.optim import RAdam"
   ]
  },
  {
   "cell_type": "code",
   "execution_count": 8,
   "metadata": {},
   "outputs": [],
   "source": [
    "import numpy as np\n",
    "import pandas as pd\n",
    "import scipy as sp\n",
    "from sklearn.feature_extraction import DictVectorizer\n",
    "from pyfm import pylibfm\n",
    "from sklearn.preprocessing import normalize\n",
    "from scipy import sparse\n",
    "from sklearn.metrics import mean_squared_error\n",
    "from math import sqrt"
   ]
  },
  {
   "cell_type": "code",
   "execution_count": 9,
   "metadata": {},
   "outputs": [],
   "source": [
    "pd.set_option('display.max_columns', None)"
   ]
  },
  {
   "cell_type": "code",
   "execution_count": 10,
   "metadata": {},
   "outputs": [],
   "source": [
    "dataset = pd.read_csv(\"merged_data.csv\")"
   ]
  },
  {
   "cell_type": "code",
   "execution_count": 11,
   "metadata": {},
   "outputs": [],
   "source": [
    "dataset_small=pd.read_csv(\"merged_data_small.csv\")\n",
    "dataset=dataset[dataset_small.columns]"
   ]
  },
  {
   "cell_type": "code",
   "execution_count": 12,
   "metadata": {},
   "outputs": [
    {
     "name": "stdout",
     "output_type": "stream",
     "text": [
      "test dataset created\n",
      "train dataset created\n"
     ]
    }
   ],
   "source": [
    "test_dataset = dataset[dataset.groupby('user_id')['date'].transform('max') == dataset['date']].reset_index(drop=True)\n",
    "print(\"test dataset created\")\n",
    "train_dataset = pd.concat([dataset, test_dataset]).drop_duplicates(keep=False).reset_index(drop=True)\n",
    "print(\"train dataset created\")"
   ]
  },
  {
   "cell_type": "code",
   "execution_count": 13,
   "metadata": {},
   "outputs": [],
   "source": [
    "already_dummies=list(train_dataset.columns)[34:-11]+list(train_dataset.columns)[-10:]"
   ]
  },
  {
   "cell_type": "code",
   "execution_count": 14,
   "metadata": {},
   "outputs": [],
   "source": [
    "wide_cols=['is_open']+already_dummies"
   ]
  },
  {
   "cell_type": "code",
   "execution_count": 15,
   "metadata": {},
   "outputs": [
    {
     "name": "stdout",
     "output_type": "stream",
     "text": [
      "<class 'pandas.core.frame.DataFrame'>\n",
      "RangeIndex: 400019 entries, 0 to 400018\n",
      "Columns: 442 entries, is_open to casual\n",
      "dtypes: int64(442)\n",
      "memory usage: 1.3 GB\n"
     ]
    }
   ],
   "source": [
    "train_dataset[wide_cols].info()"
   ]
  },
  {
   "cell_type": "code",
   "execution_count": 16,
   "metadata": {},
   "outputs": [
    {
     "name": "stdout",
     "output_type": "stream",
     "text": [
      "<class 'pandas.core.frame.DataFrame'>\n",
      "RangeIndex: 37130 entries, 0 to 37129\n",
      "Columns: 442 entries, is_open to casual\n",
      "dtypes: int64(442)\n",
      "memory usage: 125.2 MB\n"
     ]
    }
   ],
   "source": [
    "test_dataset[wide_cols].info()"
   ]
  },
  {
   "cell_type": "code",
   "execution_count": 17,
   "metadata": {},
   "outputs": [],
   "source": [
    "target_col = 'rating'"
   ]
  },
  {
   "cell_type": "code",
   "execution_count": 18,
   "metadata": {},
   "outputs": [],
   "source": [
    "target = train_dataset[target_col].values"
   ]
  },
  {
   "cell_type": "code",
   "execution_count": 19,
   "metadata": {},
   "outputs": [
    {
     "name": "stderr",
     "output_type": "stream",
     "text": [
      "//anaconda3/lib/python3.7/site-packages/sklearn/preprocessing/_encoders.py:415: FutureWarning: The handling of integer data will change in version 0.22. Currently, the categories are determined based on the range [0, max(values)], while in the future they will be determined based on the unique values.\n",
      "If you want the future behaviour and silence this warning, you can specify \"categories='auto'\".\n",
      "In case you used a LabelEncoder before this OneHotEncoder to convert the categories to integers, then you can now use the OneHotEncoder directly.\n",
      "  warnings.warn(msg, FutureWarning)\n"
     ]
    }
   ],
   "source": [
    "wide_preprocessor = WidePreprocessor(wide_cols=wide_cols)\n",
    "X_wide_train = wide_preprocessor.fit_transform(train_dataset)\n",
    "X_wide_test = wide_preprocessor.transform(test_dataset)"
   ]
  },
  {
   "cell_type": "code",
   "execution_count": 20,
   "metadata": {},
   "outputs": [],
   "source": [
    "cat_embed_cols = [(c, 16) for c in train_dataset.columns if 'city' in c]"
   ]
  },
  {
   "cell_type": "code",
   "execution_count": 21,
   "metadata": {},
   "outputs": [],
   "source": [
    "continuous_cols = ['useful',\n",
    " 'funny',\n",
    " 'cool',\n",
    " 'fans',\n",
    " 'avg_user_rating',\n",
    " 'compliment_hot',\n",
    " 'compliment_more',\n",
    " 'compliment_profile',\n",
    " 'compliment_cute',\n",
    " 'compliment_list',\n",
    " 'compliment_note',\n",
    " 'compliment_plain',\n",
    " 'compliment_funny',\n",
    " 'compliment_writer',\n",
    " 'compliment_photos',\n",
    " 'years_elite',\n",
    "'review_cnt_x','review_cnt_y']"
   ]
  },
  {
   "cell_type": "code",
   "execution_count": 22,
   "metadata": {},
   "outputs": [],
   "source": [
    "deep_preprocessor = DeepPreprocessor(embed_cols=cat_embed_cols, continuous_cols=continuous_cols)\n",
    "X_deep_train = deep_preprocessor.fit_transform(train_dataset)\n",
    "X_deep_test = deep_preprocessor.fit_transform(test_dataset) "
   ]
  },
  {
   "cell_type": "code",
   "execution_count": 23,
   "metadata": {},
   "outputs": [],
   "source": [
    "def deep_function(list1,list2):\n",
    "\n",
    "    # Linear model\n",
    "    wide = Wide(wide_dim=X_wide_train.shape[1], output_dim=1)\n",
    "    # DeepDense: 2 Dense layers\n",
    "    deepdense = DeepDense(hidden_layers=list1, dropout=list2,batchnorm=True, \n",
    "                      deep_column_idx=deep_preprocessor.deep_column_idx,\n",
    "                      embed_input=deep_preprocessor.embeddings_input,\n",
    "                      continuous_cols=continuous_cols)\n",
    "    \n",
    "    model = WideDeep(wide=wide, deepdense=deepdense)\n",
    "    model.compile(method='regression')\n",
    "    model.fit(X_wide=X_wide_train, X_deep=X_deep_train,target=target, n_epochs=5, batch_size=64, val_split=0.3)\n",
    "    \n",
    "    return(model)"
   ]
  },
  {
   "cell_type": "code",
   "execution_count": 24,
   "metadata": {},
   "outputs": [
    {
     "name": "stderr",
     "output_type": "stream",
     "text": [
      "\r",
      "  0%|          | 0/4376 [00:00<?, ?it/s]"
     ]
    },
    {
     "name": "stdout",
     "output_type": "stream",
     "text": [
      "Training\n"
     ]
    },
    {
     "name": "stderr",
     "output_type": "stream",
     "text": [
      "epoch 1: 100%|██████████| 4376/4376 [00:50<00:00, 87.09it/s, loss=1.2] \n",
      "valid: 100%|██████████| 1876/1876 [00:15<00:00, 124.79it/s, loss=1.19]\n",
      "epoch 2: 100%|██████████| 4376/4376 [00:43<00:00, 100.42it/s, loss=1.18]\n",
      "valid: 100%|██████████| 1876/1876 [00:14<00:00, 163.31it/s, loss=1.18]\n",
      "epoch 3: 100%|██████████| 4376/4376 [00:42<00:00, 107.91it/s, loss=1.18]\n",
      "valid: 100%|██████████| 1876/1876 [00:12<00:00, 148.25it/s, loss=1.18]\n",
      "epoch 4: 100%|██████████| 4376/4376 [00:43<00:00, 100.43it/s, loss=1.18]\n",
      "valid: 100%|██████████| 1876/1876 [00:12<00:00, 149.95it/s, loss=1.18]\n",
      "epoch 5: 100%|██████████| 4376/4376 [00:43<00:00, 100.30it/s, loss=1.18]\n",
      "valid: 100%|██████████| 1876/1876 [00:16<00:00, 116.79it/s, loss=1.18]\n",
      "  0%|          | 0/4376 [00:00<?, ?it/s]"
     ]
    },
    {
     "name": "stdout",
     "output_type": "stream",
     "text": [
      "Training\n"
     ]
    },
    {
     "name": "stderr",
     "output_type": "stream",
     "text": [
      "epoch 1: 100%|██████████| 4376/4376 [00:49<00:00, 87.77it/s, loss=1.2] \n",
      "valid: 100%|██████████| 1876/1876 [00:15<00:00, 121.17it/s, loss=1.28]\n",
      "epoch 2: 100%|██████████| 4376/4376 [00:47<00:00, 91.33it/s, loss=1.18]\n",
      "valid: 100%|██████████| 1876/1876 [00:14<00:00, 133.79it/s, loss=1.18]\n",
      "epoch 3: 100%|██████████| 4376/4376 [00:52<00:00, 83.69it/s, loss=1.18]\n",
      "valid: 100%|██████████| 1876/1876 [00:14<00:00, 132.03it/s, loss=1.19]\n",
      "epoch 4: 100%|██████████| 4376/4376 [01:01<00:00, 71.61it/s, loss=1.18]\n",
      "valid: 100%|██████████| 1876/1876 [41:46<00:00,  1.34s/it, loss=1.18] \n",
      "epoch 5: 100%|██████████| 4376/4376 [55:03<00:00,  1.32it/s, loss=1.17]   \n",
      "valid: 100%|██████████| 1876/1876 [00:14<00:00, 128.62it/s, loss=1.18]\n",
      "  0%|          | 0/4376 [00:00<?, ?it/s]"
     ]
    },
    {
     "name": "stdout",
     "output_type": "stream",
     "text": [
      "Training\n"
     ]
    },
    {
     "name": "stderr",
     "output_type": "stream",
     "text": [
      "epoch 1: 100%|██████████| 4376/4376 [00:53<00:00, 82.19it/s, loss=1.2] \n",
      "valid: 100%|██████████| 1876/1876 [00:14<00:00, 127.19it/s, loss=1.18]\n",
      "epoch 2: 100%|██████████| 4376/4376 [00:49<00:00, 87.98it/s, loss=1.18] \n",
      "valid: 100%|██████████| 1876/1876 [00:13<00:00, 140.84it/s, loss=1.19]\n",
      "epoch 3: 100%|██████████| 4376/4376 [00:46<00:00, 93.22it/s, loss=1.17] \n",
      "valid: 100%|██████████| 1876/1876 [00:12<00:00, 153.20it/s, loss=1.18]\n",
      "epoch 4: 100%|██████████| 4376/4376 [00:44<00:00, 97.96it/s, loss=1.17] \n",
      "valid: 100%|██████████| 1876/1876 [00:14<00:00, 130.52it/s, loss=1.18]\n",
      "epoch 5: 100%|██████████| 4376/4376 [00:48<00:00, 90.96it/s, loss=1.17]\n",
      "valid: 100%|██████████| 1876/1876 [00:13<00:00, 135.63it/s, loss=1.18]\n",
      "  0%|          | 0/4376 [00:00<?, ?it/s]"
     ]
    },
    {
     "name": "stdout",
     "output_type": "stream",
     "text": [
      "Training\n"
     ]
    },
    {
     "name": "stderr",
     "output_type": "stream",
     "text": [
      "epoch 1: 100%|██████████| 4376/4376 [00:50<00:00, 86.86it/s, loss=1.19]\n",
      "valid: 100%|██████████| 1876/1876 [00:14<00:00, 131.65it/s, loss=1.18]\n",
      "epoch 2: 100%|██████████| 4376/4376 [01:07<00:00, 95.43it/s, loss=1.18]\n",
      "valid: 100%|██████████| 1876/1876 [00:12<00:00, 151.08it/s, loss=1.18]\n",
      "epoch 3: 100%|██████████| 4376/4376 [01:12<00:00, 60.39it/s, loss=1.17]\n",
      "valid: 100%|██████████| 1876/1876 [00:13<00:00, 139.77it/s, loss=1.19]\n",
      "epoch 4: 100%|██████████| 4376/4376 [01:09<00:00, 62.72it/s, loss=1.17]\n",
      "valid: 100%|██████████| 1876/1876 [00:13<00:00, 148.97it/s, loss=1.18]\n",
      "epoch 5: 100%|██████████| 4376/4376 [00:56<00:00, 77.70it/s, loss=1.17]\n",
      "valid: 100%|██████████| 1876/1876 [00:16<00:00, 113.48it/s, loss=1.17]\n",
      "  0%|          | 0/4376 [00:00<?, ?it/s]"
     ]
    },
    {
     "name": "stdout",
     "output_type": "stream",
     "text": [
      "Training\n"
     ]
    },
    {
     "name": "stderr",
     "output_type": "stream",
     "text": [
      "epoch 1: 100%|██████████| 4376/4376 [00:56<00:00, 77.20it/s, loss=1.2] \n",
      "valid: 100%|██████████| 1876/1876 [00:14<00:00, 130.57it/s, loss=1.2]\n",
      "epoch 2: 100%|██████████| 4376/4376 [00:57<00:00, 76.59it/s, loss=1.18]\n",
      "valid: 100%|██████████| 1876/1876 [00:18<00:00, 100.43it/s, loss=1.18]\n",
      "epoch 3: 100%|██████████| 4376/4376 [00:52<00:00, 82.92it/s, loss=1.18]\n",
      "valid: 100%|██████████| 1876/1876 [00:13<00:00, 137.35it/s, loss=1.18]\n",
      "epoch 4: 100%|██████████| 4376/4376 [00:52<00:00, 83.39it/s, loss=1.18]\n",
      "valid: 100%|██████████| 1876/1876 [00:13<00:00, 135.68it/s, loss=1.18]\n",
      "epoch 5: 100%|██████████| 4376/4376 [00:54<00:00, 80.74it/s, loss=1.18]\n",
      "valid: 100%|██████████| 1876/1876 [00:14<00:00, 125.91it/s, loss=1.18]\n"
     ]
    }
   ],
   "source": [
    "model_1=deep_function([32,32],[0.5,0.5])\n",
    "model_2=deep_function([32,64],[0.5,0.5])\n",
    "model_3=deep_function([64,64],[0.5,0.5])\n",
    "model_4=deep_function([64,128],[0.5,0.5])\n",
    "model_5=deep_function([32,32,32],[0.5,0.5,0.5])"
   ]
  },
  {
   "cell_type": "code",
   "execution_count": 25,
   "metadata": {},
   "outputs": [],
   "source": [
    "def rmse_function(model):\n",
    "    y_pred=model.predict(X_wide=X_wide_test, X_deep=X_deep_test)\n",
    "    rmse = sqrt(mean_squared_error(test_dataset[target_col].values, y_pred))\n",
    "    return(rmse)"
   ]
  },
  {
   "cell_type": "code",
   "execution_count": 26,
   "metadata": {},
   "outputs": [
    {
     "name": "stderr",
     "output_type": "stream",
     "text": [
      "predict: 100%|██████████| 581/581 [00:02<00:00, 201.32it/s]\n",
      "predict: 100%|██████████| 581/581 [00:02<00:00, 205.62it/s]\n",
      "predict: 100%|██████████| 581/581 [00:02<00:00, 207.84it/s]\n",
      "predict: 100%|██████████| 581/581 [00:02<00:00, 199.34it/s]\n",
      "predict: 100%|██████████| 581/581 [00:02<00:00, 194.74it/s]\n"
     ]
    }
   ],
   "source": [
    "l=[]\n",
    "l.append(rmse_function(model_1))\n",
    "l.append(rmse_function(model_2))\n",
    "l.append(rmse_function(model_3))\n",
    "l.append(rmse_function(model_4))\n",
    "l.append(rmse_function(model_5))"
   ]
  },
  {
   "cell_type": "code",
   "execution_count": 27,
   "metadata": {},
   "outputs": [],
   "source": [
    "l2=['32 x 32','32 x 64','64 x 64','64 x 128','32 x 32 x 32']"
   ]
  },
  {
   "cell_type": "code",
   "execution_count": 28,
   "metadata": {},
   "outputs": [],
   "source": [
    "import matplotlib.pyplot as plt\n",
    "import numpy as np"
   ]
  },
  {
   "cell_type": "code",
   "execution_count": 38,
   "metadata": {},
   "outputs": [
    {
     "data": {
      "image/png": "[encoded data removed]",
      "text/plain": [
       "<Figure size 432x288 with 1 Axes>"
      ]
     },
     "metadata": {
      "needs_background": "light"
     },
     "output_type": "display_data"
    }
   ],
   "source": [
    "plt.plot(l2,l)\n",
    "plt.title(\"PLot of RMSE vs Number of Neurons in each hidden layer\")\n",
    "plt.xlabel(\"No of Neurons\")\n",
    "plt.ylabel(\"RMSE\")\n",
    "plt.savefig('output/' +'rmse_hidden_layers.png')"
   ]
  },
  {
   "cell_type": "code",
   "execution_count": 39,
   "metadata": {},
   "outputs": [],
   "source": [
    "user_counts=dataset['user_id'].value_counts()\n",
    "less_prolific_users = user_counts.loc[user_counts <= 5].index.tolist()\n",
    "test_data_less_prolific=test_dataset[(test_dataset.user_id.isin(less_prolific_users))]"
   ]
  },
  {
   "cell_type": "code",
   "execution_count": 40,
   "metadata": {},
   "outputs": [],
   "source": [
    "X_wide_test_less_prolific = wide_preprocessor.transform(test_data_less_prolific)\n",
    "X_deep_test_less_prolific = deep_preprocessor.fit_transform(test_data_less_prolific) "
   ]
  },
  {
   "cell_type": "code",
   "execution_count": 41,
   "metadata": {},
   "outputs": [
    {
     "name": "stderr",
     "output_type": "stream",
     "text": [
      "predict: 100%|██████████| 143/143 [00:00<00:00, 188.72it/s]\n"
     ]
    },
    {
     "name": "stdout",
     "output_type": "stream",
     "text": [
      "Root-mean-square error for less prolific users = 1.2474996908479106\n"
     ]
    }
   ],
   "source": [
    "y_pred=model_5.predict(X_wide=X_wide_test_less_prolific, X_deep=X_deep_test_less_prolific)\n",
    "rmse = sqrt(mean_squared_error(test_data_less_prolific[target_col].values, y_pred))\n",
    "print(\"Root-mean-square error for less prolific users = \" + str(rmse))"
   ]
  },
  {
   "cell_type": "code",
   "execution_count": 42,
   "metadata": {},
   "outputs": [],
   "source": [
    "business_counts=dataset['business_id'].value_counts()\n",
    "less_popular_business = business_counts.loc[business_counts <= 100].index.tolist()\n",
    "test_data_less_popular=test_dataset[(test_dataset.business_id.isin(less_popular_business))]"
   ]
  },
  {
   "cell_type": "code",
   "execution_count": 43,
   "metadata": {},
   "outputs": [],
   "source": [
    "X_wide_test_less_popular = wide_preprocessor.transform(test_data_less_popular)\n",
    "X_deep_test_less_popular = deep_preprocessor.fit_transform(test_data_less_popular) "
   ]
  },
  {
   "cell_type": "code",
   "execution_count": 45,
   "metadata": {},
   "outputs": [
    {
     "name": "stderr",
     "output_type": "stream",
     "text": [
      "predict: 100%|██████████| 165/165 [00:00<00:00, 165.45it/s]\n"
     ]
    },
    {
     "name": "stdout",
     "output_type": "stream",
     "text": [
      "Root-mean-square error for less popular business = 1.3657753490386966\n"
     ]
    }
   ],
   "source": [
    "y_pred=model_5.predict(X_wide=X_wide_test_less_popular, X_deep=X_deep_test_less_popular)\n",
    "rmse = sqrt(mean_squared_error(test_data_less_popular[target_col].values, y_pred))\n",
    "print(\"Root-mean-square error for less popular business = \" + str(rmse))"
   ]
  }
 ],
 "metadata": {
  "kernelspec": {
   "display_name": "Python 3",
   "language": "python",
   "name": "python3"
  },
  "language_info": {
   "codemirror_mode": {
    "name": "ipython",
    "version": 3
   },
   "file_extension": ".py",
   "mimetype": "text/x-python",
   "name": "python",
   "nbconvert_exporter": "python",
   "pygments_lexer": "ipython3",
   "version": "3.7.3"
  }
 },
 "nbformat": 4,
 "nbformat_minor": 2
}
