{
 "cells": [
  {
   "cell_type": "code",
   "execution_count": 2,
   "metadata": {},
   "outputs": [],
   "source": [
    "import pandas as pd\n",
    "import json\n",
    "from tqdm import tqdm"
   ]
  },
  {
   "cell_type": "code",
   "execution_count": 3,
   "metadata": {},
   "outputs": [
    {
     "name": "stderr",
     "output_type": "stream",
     "text": [
      "100%|██████████| 6685900/6685900 [01:08<00:00, 98169.23it/s] \n"
     ]
    }
   ],
   "source": [
    "line_count = len(open(\"../data/review.json\").readlines())\n",
    "user_ids, business_ids, stars, dates = [], [], [], []\n",
    "with open(\"../data/review.json\") as f:\n",
    "  for line in tqdm(f, total=line_count):\n",
    "       blob = json.loads(line)\n",
    "       user_ids += [blob[\"user_id\"]]\n",
    "       business_ids += [blob[\"business_id\"]]\n",
    "       stars += [blob[\"stars\"]]\n",
    "       dates += [blob[\"date\"]]\n",
    "ratings = pd.DataFrame(\n",
    "   {\"user_id\": user_ids, \"business_id\": business_ids, \"rating\": stars, \"date\": dates}\n",
    ")\n",
    "user_counts = ratings[\"user_id\"].value_counts()\n",
    "active_users = user_counts.loc[user_counts >= 5].index.tolist()"
   ]
  },
  {
   "cell_type": "code",
   "execution_count": 4,
   "metadata": {},
   "outputs": [],
   "source": [
    "business_counts = ratings[\"business_id\"].value_counts()\n",
    "popular_business = business_counts.loc[business_counts >= 5].index.tolist()"
   ]
  },
  {
   "cell_type": "code",
   "execution_count": null,
   "metadata": {},
   "outputs": [],
   "source": []
  },
  {
   "cell_type": "code",
   "execution_count": 5,
   "metadata": {},
   "outputs": [
    {
     "data": {
      "text/plain": [
       "['4JNXUYY8wbaaDmk3BPzlWw',\n",
       " 'RESDUcs7fIiihp38-d6_6g',\n",
       " 'K7lWdNUhCbcnEvI0NhGewg',\n",
       " 'f4x1YBxkLrZg652xt2KR5g',\n",
       " 'cYwJA2A6I12KNkm2rtXd5g']"
      ]
     },
     "execution_count": 5,
     "metadata": {},
     "output_type": "execute_result"
    }
   ],
   "source": [
    "popular_business[0:5]"
   ]
  },
  {
   "cell_type": "code",
   "execution_count": 6,
   "metadata": {},
   "outputs": [
    {
     "data": {
      "text/plain": [
       "142165"
      ]
     },
     "execution_count": 6,
     "metadata": {},
     "output_type": "execute_result"
    }
   ],
   "source": [
    "len(popular_business)"
   ]
  },
  {
   "cell_type": "code",
   "execution_count": 7,
   "metadata": {},
   "outputs": [
    {
     "data": {
      "text/plain": [
       "286130"
      ]
     },
     "execution_count": 7,
     "metadata": {},
     "output_type": "execute_result"
    }
   ],
   "source": [
    "len(active_users)"
   ]
  },
  {
   "cell_type": "code",
   "execution_count": 8,
   "metadata": {},
   "outputs": [
    {
     "data": {
      "text/plain": [
       "(6685900, 4)"
      ]
     },
     "execution_count": 8,
     "metadata": {},
     "output_type": "execute_result"
    }
   ],
   "source": [
    "ratings.shape"
   ]
  },
  {
   "cell_type": "code",
   "execution_count": 9,
   "metadata": {},
   "outputs": [
    {
     "data": {
      "text/plain": [
       "Index(['business_id', 'date', 'rating', 'user_id'], dtype='object')"
      ]
     },
     "execution_count": 9,
     "metadata": {},
     "output_type": "execute_result"
    }
   ],
   "source": [
    "ratings.columns"
   ]
  },
  {
   "cell_type": "code",
   "execution_count": 11,
   "metadata": {},
   "outputs": [
    {
     "name": "stderr",
     "output_type": "stream",
     "text": [
      "100%|██████████| 192609/192609 [00:03<00:00, 59332.33it/s]\n"
     ]
    }
   ],
   "source": [
    "line_count = len(open(\"../data/business.json\").readlines())\n",
    "business_ids,name, city, stars,review_count,categories = [], [], [], [],[],[]\n",
    "with open(\"../data/business.json\") as f:\n",
    "  for line in tqdm(f, total=line_count):\n",
    "       blob = json.loads(line)\n",
    "       business_ids += [blob[\"business_id\"]]\n",
    "       name += [blob[\"name\"]]\n",
    "       city += [blob[\"city\"]]\n",
    "       stars += [blob[\"stars\"]]\n",
    "       review_count += [blob[\"review_count\"]]\n",
    "       categories += [blob[\"categories\"]]\n",
    "business = pd.DataFrame(\n",
    "   {\"business_id\": business_ids, \"name\": name, \"city\": city, \"stars\": stars,\"review_count\": review_count,\n",
    "    \"categories\": categories}\n",
    ")"
   ]
  },
  {
   "cell_type": "code",
   "execution_count": 12,
   "metadata": {},
   "outputs": [
    {
     "data": {
      "text/plain": [
       "Index(['business_id', 'categories', 'city', 'name', 'review_count', 'stars'], dtype='object')"
      ]
     },
     "execution_count": 12,
     "metadata": {},
     "output_type": "execute_result"
    }
   ],
   "source": [
    "business.columns"
   ]
  },
  {
   "cell_type": "code",
   "execution_count": 13,
   "metadata": {},
   "outputs": [],
   "source": [
    "data_1=ratings.merge(business,how='left',on='business_id')"
   ]
  },
  {
   "cell_type": "code",
   "execution_count": 14,
   "metadata": {},
   "outputs": [],
   "source": [
    "data_1['date']=pd.to_datetime(data_1['date'])"
   ]
  },
  {
   "cell_type": "code",
   "execution_count": 15,
   "metadata": {},
   "outputs": [
    {
     "data": {
      "text/html": [
       "<div>\n",
       "<style scoped>\n",
       "    .dataframe tbody tr th:only-of-type {\n",
       "        vertical-align: middle;\n",
       "    }\n",
       "\n",
       "    .dataframe tbody tr th {\n",
       "        vertical-align: top;\n",
       "    }\n",
       "\n",
       "    .dataframe thead th {\n",
       "        text-align: right;\n",
       "    }\n",
       "</style>\n",
       "<table border=\"1\" class=\"dataframe\">\n",
       "  <thead>\n",
       "    <tr style=\"text-align: right;\">\n",
       "      <th></th>\n",
       "      <th>business_id</th>\n",
       "      <th>date</th>\n",
       "      <th>rating</th>\n",
       "      <th>user_id</th>\n",
       "      <th>categories</th>\n",
       "      <th>city</th>\n",
       "      <th>name</th>\n",
       "      <th>review_count</th>\n",
       "      <th>stars</th>\n",
       "    </tr>\n",
       "  </thead>\n",
       "  <tbody>\n",
       "    <tr>\n",
       "      <th>0</th>\n",
       "      <td>ujmEBvifdJM6h6RLv4wQIg</td>\n",
       "      <td>2013-05-07 04:34:36</td>\n",
       "      <td>1.0</td>\n",
       "      <td>hG7b0MtEbXx5QzbzE6C_VA</td>\n",
       "      <td>Fitness &amp; Instruction, Doctors, Health &amp; Medic...</td>\n",
       "      <td>Las Vegas</td>\n",
       "      <td>MountainView Hospital</td>\n",
       "      <td>238</td>\n",
       "      <td>2.5</td>\n",
       "    </tr>\n",
       "    <tr>\n",
       "      <th>1</th>\n",
       "      <td>NZnhc2sEQy3RmzKTZnqtwQ</td>\n",
       "      <td>2017-01-14 21:30:33</td>\n",
       "      <td>5.0</td>\n",
       "      <td>yXQM5uF2jS6es16SJzNHfg</td>\n",
       "      <td>Beauty &amp; Spas, Hair Stylists, Makeup Artists, ...</td>\n",
       "      <td>Las Vegas</td>\n",
       "      <td>Kelly Cardenas Salon - Hard Rock Hotel &amp; Casino</td>\n",
       "      <td>66</td>\n",
       "      <td>4.5</td>\n",
       "    </tr>\n",
       "    <tr>\n",
       "      <th>2</th>\n",
       "      <td>WTqjgwHlXbSFevF32_DJVw</td>\n",
       "      <td>2016-11-09 20:09:03</td>\n",
       "      <td>5.0</td>\n",
       "      <td>n6-Gk65cPZL6Uz8qRm3NYw</td>\n",
       "      <td>Health &amp; Medical, Cosmetic Dentists, Orthodont...</td>\n",
       "      <td>Chandler</td>\n",
       "      <td>J. Philipp Centers for Family and Cosmetic Den...</td>\n",
       "      <td>39</td>\n",
       "      <td>3.5</td>\n",
       "    </tr>\n",
       "    <tr>\n",
       "      <th>3</th>\n",
       "      <td>ikCg8xy5JIg_NGPx-MSIDA</td>\n",
       "      <td>2018-01-09 20:56:38</td>\n",
       "      <td>5.0</td>\n",
       "      <td>dacAIZ6fTM6mqwW5uxkskg</td>\n",
       "      <td>Bars, Pubs, Nightlife, Tapas Bars, Restaurants</td>\n",
       "      <td>Calgary</td>\n",
       "      <td>Regal Beagle Pub</td>\n",
       "      <td>13</td>\n",
       "      <td>3.0</td>\n",
       "    </tr>\n",
       "    <tr>\n",
       "      <th>4</th>\n",
       "      <td>b1b1eb3uo-w561D0ZfCEiQ</td>\n",
       "      <td>2018-01-30 23:07:38</td>\n",
       "      <td>1.0</td>\n",
       "      <td>ssoyf2_x0EQMed6fgHeMyQ</td>\n",
       "      <td>Teeth Whitening, Beauty &amp; Spas</td>\n",
       "      <td>Scottsdale</td>\n",
       "      <td>White Teeth AZ</td>\n",
       "      <td>75</td>\n",
       "      <td>4.5</td>\n",
       "    </tr>\n",
       "  </tbody>\n",
       "</table>\n",
       "</div>"
      ],
      "text/plain": [
       "              business_id                date  rating                 user_id  \\\n",
       "0  ujmEBvifdJM6h6RLv4wQIg 2013-05-07 04:34:36     1.0  hG7b0MtEbXx5QzbzE6C_VA   \n",
       "1  NZnhc2sEQy3RmzKTZnqtwQ 2017-01-14 21:30:33     5.0  yXQM5uF2jS6es16SJzNHfg   \n",
       "2  WTqjgwHlXbSFevF32_DJVw 2016-11-09 20:09:03     5.0  n6-Gk65cPZL6Uz8qRm3NYw   \n",
       "3  ikCg8xy5JIg_NGPx-MSIDA 2018-01-09 20:56:38     5.0  dacAIZ6fTM6mqwW5uxkskg   \n",
       "4  b1b1eb3uo-w561D0ZfCEiQ 2018-01-30 23:07:38     1.0  ssoyf2_x0EQMed6fgHeMyQ   \n",
       "\n",
       "                                          categories        city  \\\n",
       "0  Fitness & Instruction, Doctors, Health & Medic...   Las Vegas   \n",
       "1  Beauty & Spas, Hair Stylists, Makeup Artists, ...   Las Vegas   \n",
       "2  Health & Medical, Cosmetic Dentists, Orthodont...    Chandler   \n",
       "3     Bars, Pubs, Nightlife, Tapas Bars, Restaurants     Calgary   \n",
       "4                     Teeth Whitening, Beauty & Spas  Scottsdale   \n",
       "\n",
       "                                                name  review_count  stars  \n",
       "0                              MountainView Hospital           238    2.5  \n",
       "1    Kelly Cardenas Salon - Hard Rock Hotel & Casino            66    4.5  \n",
       "2  J. Philipp Centers for Family and Cosmetic Den...            39    3.5  \n",
       "3                                   Regal Beagle Pub            13    3.0  \n",
       "4                                     White Teeth AZ            75    4.5  "
      ]
     },
     "execution_count": 15,
     "metadata": {},
     "output_type": "execute_result"
    }
   ],
   "source": [
    "data_1.head()"
   ]
  },
  {
   "cell_type": "code",
   "execution_count": 16,
   "metadata": {},
   "outputs": [
    {
     "data": {
      "text/plain": [
       "(0, 9)"
      ]
     },
     "execution_count": 16,
     "metadata": {},
     "output_type": "execute_result"
    }
   ],
   "source": [
    "data_1[data_1['city']=='NY'].shape"
   ]
  },
  {
   "cell_type": "code",
   "execution_count": 17,
   "metadata": {},
   "outputs": [
    {
     "data": {
      "text/plain": [
       "(6685900, 9)"
      ]
     },
     "execution_count": 17,
     "metadata": {},
     "output_type": "execute_result"
    }
   ],
   "source": [
    "data_1.shape"
   ]
  },
  {
   "cell_type": "code",
   "execution_count": 18,
   "metadata": {},
   "outputs": [
    {
     "data": {
      "text/plain": [
       "Timestamp('2018-11-14 18:13:26')"
      ]
     },
     "execution_count": 18,
     "metadata": {},
     "output_type": "execute_result"
    }
   ],
   "source": [
    "data_1.date.max()"
   ]
  },
  {
   "cell_type": "code",
   "execution_count": 19,
   "metadata": {},
   "outputs": [],
   "source": [
    "data_1=data_1[data_1.date>'2018-07-01']"
   ]
  },
  {
   "cell_type": "code",
   "execution_count": 20,
   "metadata": {},
   "outputs": [
    {
     "data": {
      "text/plain": [
       "92907"
      ]
     },
     "execution_count": 20,
     "metadata": {},
     "output_type": "execute_result"
    }
   ],
   "source": [
    "data_1.business_id.nunique()"
   ]
  },
  {
   "cell_type": "code",
   "execution_count": 21,
   "metadata": {},
   "outputs": [],
   "source": [
    "data_2=data_1[data_1.categories.str.contains('Pizza',na=False)]"
   ]
  },
  {
   "cell_type": "code",
   "execution_count": 22,
   "metadata": {},
   "outputs": [
    {
     "data": {
      "text/plain": [
       "(28412, 9)"
      ]
     },
     "execution_count": 22,
     "metadata": {},
     "output_type": "execute_result"
    }
   ],
   "source": [
    "data_2.shape"
   ]
  },
  {
   "cell_type": "code",
   "execution_count": 23,
   "metadata": {},
   "outputs": [
    {
     "data": {
      "text/html": [
       "<div>\n",
       "<style scoped>\n",
       "    .dataframe tbody tr th:only-of-type {\n",
       "        vertical-align: middle;\n",
       "    }\n",
       "\n",
       "    .dataframe tbody tr th {\n",
       "        vertical-align: top;\n",
       "    }\n",
       "\n",
       "    .dataframe thead th {\n",
       "        text-align: right;\n",
       "    }\n",
       "</style>\n",
       "<table border=\"1\" class=\"dataframe\">\n",
       "  <thead>\n",
       "    <tr style=\"text-align: right;\">\n",
       "      <th></th>\n",
       "      <th>business_id</th>\n",
       "      <th>date</th>\n",
       "      <th>rating</th>\n",
       "      <th>user_id</th>\n",
       "      <th>categories</th>\n",
       "      <th>city</th>\n",
       "      <th>name</th>\n",
       "      <th>review_count</th>\n",
       "      <th>stars</th>\n",
       "    </tr>\n",
       "  </thead>\n",
       "  <tbody>\n",
       "    <tr>\n",
       "      <th>751</th>\n",
       "      <td>C2skZUb7BLpv3e78Mcf5cA</td>\n",
       "      <td>2018-09-03 01:40:55</td>\n",
       "      <td>1.0</td>\n",
       "      <td>txHu-M3p2tLKSpNGMWUO0Q</td>\n",
       "      <td>Pizza, Restaurants</td>\n",
       "      <td>North Las Vegas</td>\n",
       "      <td>Pizza Hut</td>\n",
       "      <td>41</td>\n",
       "      <td>2.0</td>\n",
       "    </tr>\n",
       "    <tr>\n",
       "      <th>1382</th>\n",
       "      <td>a0v7Si0DK4cIko7AQY4YXg</td>\n",
       "      <td>2018-08-23 21:45:39</td>\n",
       "      <td>4.0</td>\n",
       "      <td>84MPXt_hRIABXN09eTxG-g</td>\n",
       "      <td>Restaurants, Burgers, Breakfast &amp; Brunch, Amer...</td>\n",
       "      <td>Las Vegas</td>\n",
       "      <td>Egg Works</td>\n",
       "      <td>999</td>\n",
       "      <td>4.5</td>\n",
       "    </tr>\n",
       "    <tr>\n",
       "      <th>1427</th>\n",
       "      <td>ygZSfAsnlztdeWZOlJA2Ug</td>\n",
       "      <td>2018-09-25 05:14:27</td>\n",
       "      <td>5.0</td>\n",
       "      <td>QPS8x5UbSNbVhZUQA7WHGg</td>\n",
       "      <td>Sandwiches, Italian, Pizza, Restaurants</td>\n",
       "      <td>Tempe</td>\n",
       "      <td>Barro's Pizza</td>\n",
       "      <td>92</td>\n",
       "      <td>4.0</td>\n",
       "    </tr>\n",
       "    <tr>\n",
       "      <th>2142</th>\n",
       "      <td>htVvtLIFftBLqzRISjReDw</td>\n",
       "      <td>2018-09-25 13:31:53</td>\n",
       "      <td>4.0</td>\n",
       "      <td>9E2FcvChcPPv1dgOx3k_NA</td>\n",
       "      <td>Restaurants, Desserts, Salad, Food, Pizza, Bur...</td>\n",
       "      <td>Toronto</td>\n",
       "      <td>The Cheesecake Factory</td>\n",
       "      <td>450</td>\n",
       "      <td>3.0</td>\n",
       "    </tr>\n",
       "    <tr>\n",
       "      <th>2576</th>\n",
       "      <td>ygZSfAsnlztdeWZOlJA2Ug</td>\n",
       "      <td>2018-08-14 04:05:04</td>\n",
       "      <td>4.0</td>\n",
       "      <td>kCj31kiI9QL81bMaFed4qg</td>\n",
       "      <td>Sandwiches, Italian, Pizza, Restaurants</td>\n",
       "      <td>Tempe</td>\n",
       "      <td>Barro's Pizza</td>\n",
       "      <td>92</td>\n",
       "      <td>4.0</td>\n",
       "    </tr>\n",
       "  </tbody>\n",
       "</table>\n",
       "</div>"
      ],
      "text/plain": [
       "                 business_id                date  rating  \\\n",
       "751   C2skZUb7BLpv3e78Mcf5cA 2018-09-03 01:40:55     1.0   \n",
       "1382  a0v7Si0DK4cIko7AQY4YXg 2018-08-23 21:45:39     4.0   \n",
       "1427  ygZSfAsnlztdeWZOlJA2Ug 2018-09-25 05:14:27     5.0   \n",
       "2142  htVvtLIFftBLqzRISjReDw 2018-09-25 13:31:53     4.0   \n",
       "2576  ygZSfAsnlztdeWZOlJA2Ug 2018-08-14 04:05:04     4.0   \n",
       "\n",
       "                     user_id  \\\n",
       "751   txHu-M3p2tLKSpNGMWUO0Q   \n",
       "1382  84MPXt_hRIABXN09eTxG-g   \n",
       "1427  QPS8x5UbSNbVhZUQA7WHGg   \n",
       "2142  9E2FcvChcPPv1dgOx3k_NA   \n",
       "2576  kCj31kiI9QL81bMaFed4qg   \n",
       "\n",
       "                                             categories             city  \\\n",
       "751                                  Pizza, Restaurants  North Las Vegas   \n",
       "1382  Restaurants, Burgers, Breakfast & Brunch, Amer...        Las Vegas   \n",
       "1427            Sandwiches, Italian, Pizza, Restaurants            Tempe   \n",
       "2142  Restaurants, Desserts, Salad, Food, Pizza, Bur...          Toronto   \n",
       "2576            Sandwiches, Italian, Pizza, Restaurants            Tempe   \n",
       "\n",
       "                        name  review_count  stars  \n",
       "751                Pizza Hut            41    2.0  \n",
       "1382               Egg Works           999    4.5  \n",
       "1427           Barro's Pizza            92    4.0  \n",
       "2142  The Cheesecake Factory           450    3.0  \n",
       "2576           Barro's Pizza            92    4.0  "
      ]
     },
     "execution_count": 23,
     "metadata": {},
     "output_type": "execute_result"
    }
   ],
   "source": [
    "data_2.head()"
   ]
  },
  {
   "cell_type": "code",
   "execution_count": 24,
   "metadata": {},
   "outputs": [],
   "source": [
    "data_2=data_2[(data_2.user_id.isin(active_users))]\n"
   ]
  },
  {
   "cell_type": "code",
   "execution_count": 25,
   "metadata": {},
   "outputs": [],
   "source": [
    "data_2=data_2[(data_2.business_id.isin(popular_business))]"
   ]
  },
  {
   "cell_type": "code",
   "execution_count": 26,
   "metadata": {},
   "outputs": [
    {
     "data": {
      "text/plain": [
       "0.1    1.0\n",
       "0.2    3.0\n",
       "0.3    3.0\n",
       "0.4    4.0\n",
       "0.5    4.0\n",
       "0.6    5.0\n",
       "0.7    5.0\n",
       "0.8    5.0\n",
       "0.9    5.0\n",
       "1.0    5.0\n",
       "Name: rating, dtype: float64"
      ]
     },
     "execution_count": 26,
     "metadata": {},
     "output_type": "execute_result"
    }
   ],
   "source": [
    "data_2.rating.quantile([0.1,0.2,0.3,0.4,0.5,0.6,0.7,0.8,0.9,1])"
   ]
  },
  {
   "cell_type": "code",
   "execution_count": 27,
   "metadata": {},
   "outputs": [
    {
     "data": {
      "text/plain": [
       "(16732, 9)"
      ]
     },
     "execution_count": 27,
     "metadata": {},
     "output_type": "execute_result"
    }
   ],
   "source": [
    "data_2.shape"
   ]
  },
  {
   "cell_type": "code",
   "execution_count": 28,
   "metadata": {},
   "outputs": [
    {
     "data": {
      "text/plain": [
       "2937"
      ]
     },
     "execution_count": 28,
     "metadata": {},
     "output_type": "execute_result"
    }
   ],
   "source": [
    "data_2.business_id.nunique()"
   ]
  },
  {
   "cell_type": "code",
   "execution_count": 29,
   "metadata": {},
   "outputs": [
    {
     "data": {
      "text/plain": [
       "13054"
      ]
     },
     "execution_count": 29,
     "metadata": {},
     "output_type": "execute_result"
    }
   ],
   "source": [
    "data_2.user_id.nunique()"
   ]
  },
  {
   "cell_type": "code",
   "execution_count": 30,
   "metadata": {},
   "outputs": [
    {
     "data": {
      "text/plain": [
       "28412"
      ]
     },
     "execution_count": 30,
     "metadata": {},
     "output_type": "execute_result"
    }
   ],
   "source": [
    "sum(data_1.categories.str.contains('Pizza',na=False))"
   ]
  },
  {
   "cell_type": "code",
   "execution_count": 32,
   "metadata": {},
   "outputs": [],
   "source": [
    "data_2=data_1.groupby('categories')['categories'].count()"
   ]
  },
  {
   "cell_type": "code",
   "execution_count": 33,
   "metadata": {},
   "outputs": [
    {
     "data": {
      "text/plain": [
       "(52871,)"
      ]
     },
     "execution_count": 33,
     "metadata": {},
     "output_type": "execute_result"
    }
   ],
   "source": [
    "data_2.shape"
   ]
  },
  {
   "cell_type": "code",
   "execution_count": 34,
   "metadata": {},
   "outputs": [
    {
     "name": "stderr",
     "output_type": "stream",
     "text": [
      "/mnt/c/Users/amogh/Appledore/Fall-2019/Personalisation-Fall/Yelp-Restaurants-RecSys/venv-yelp/lib/python3.5/site-packages/ipykernel_launcher.py:1: FutureWarning: The signature of `Series.to_csv` was aligned to that of `DataFrame.to_csv`, and argument 'header' will change its default value from False to True: please pass an explicit value to suppress this warning.\n",
      "  \"\"\"Entry point for launching an IPython kernel.\n"
     ]
    }
   ],
   "source": [
    "data_2.to_csv('abc.csv')"
   ]
  },
  {
   "cell_type": "code",
   "execution_count": 35,
   "metadata": {},
   "outputs": [
    {
     "data": {
      "text/plain": [
       "categories\n",
       "3D Printing, Graphic Design, Professional Services, Local Services, Auto Customization, Automotive    3\n",
       "3D Printing, Local Services, Printing Services                                                        1\n",
       "ATV Rentals/Tours, Active Life                                                                        9\n",
       "ATV Rentals/Tours, Active Life, Jet Skis                                                              1\n",
       "ATV Rentals/Tours, Active Life, Tours, Event Planning & Services, Hotels & Travel, Automotive         4\n",
       "Name: categories, dtype: int64"
      ]
     },
     "execution_count": 35,
     "metadata": {},
     "output_type": "execute_result"
    }
   ],
   "source": [
    "data_2.head()"
   ]
  },
  {
   "cell_type": "code",
   "execution_count": null,
   "metadata": {},
   "outputs": [],
   "source": []
  }
 ],
 "metadata": {
  "kernelspec": {
   "display_name": "Python 3",
   "language": "python",
   "name": "python3"
  },
  "language_info": {
   "codemirror_mode": {
    "name": "ipython",
    "version": 3
   },
   "file_extension": ".py",
   "mimetype": "text/x-python",
   "name": "python",
   "nbconvert_exporter": "python",
   "pygments_lexer": "ipython3",
   "version": "3.5.5"
  }
 },
 "nbformat": 4,
 "nbformat_minor": 2
}
